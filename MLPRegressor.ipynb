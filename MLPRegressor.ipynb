{
  "nbformat": 4,
  "nbformat_minor": 0,
  "metadata": {
    "colab": {
      "provenance": [],
      "mount_file_id": "1NqvNZBWM0fpueFIZCeTcVZ1k4N8Je7MX",
      "authorship_tag": "ABX9TyNvjXCJhMstP3oltDk/GUN5",
      "include_colab_link": true
    },
    "kernelspec": {
      "name": "python3",
      "display_name": "Python 3"
    },
    "language_info": {
      "name": "python"
    }
  },
  "cells": [
    {
      "cell_type": "markdown",
      "metadata": {
        "id": "view-in-github",
        "colab_type": "text"
      },
      "source": [
        "<a href=\"https://colab.research.google.com/github/ernie-Griffiths/Determining-the-Validity-of-Genetically-Engineered-Crops-in-a-Warming-Climate-Using-Machine-Learning/blob/main/MLPRegressor.ipynb\" target=\"_parent\"><img src=\"https://colab.research.google.com/assets/colab-badge.svg\" alt=\"Open In Colab\"/></a>"
      ]
    },
    {
      "cell_type": "code",
      "execution_count": null,
      "metadata": {
        "id": "FPZP3RDZ-OIy"
      },
      "outputs": [],
      "source": [
        "import pandas as pd\n",
        "\n",
        "import numpy as np\n",
        "\n",
        "from sklearn.neural_network import MLPRegressor\n",
        "\n",
        "from sklearn.datasets import make_regression\n",
        "\n",
        "from sklearn.model_selection import train_test_split\n",
        "\n",
        "from sklearn.model_selection import GridSearchCV\n",
        "\n",
        "from sklearn.metrics import r2_score\n",
        "from sklearn.metrics import mean_squared_error\n",
        "\n",
        "\n",
        "from sklearn.preprocessing import StandardScaler"
      ]
    },
    {
      "cell_type": "code",
      "source": [
        "Phenotype_Soil_Weather_Data = pd.read_csv(\"/content/drive/MyDrive/University of reading/MSC FINAL project/Data/Data Files/Finalised data/FeatureSelected_Phenotype_Soil_Weather_Data.csv\",index_col=[0])"
      ],
      "metadata": {
        "id": "ONl5CSkz_O9R"
      },
      "execution_count": null,
      "outputs": []
    },
    {
      "cell_type": "code",
      "source": [
        "Phenotype_Soil_Weather_Data['Texture'] = pd.factorize(Phenotype_Soil_Weather_Data['Texture'])[0] + 1\n",
        "Phenotype_Soil_Weather_Data['Seed Success factor'] = Phenotype_Soil_Weather_Data['Seed Success factor'].round(decimals = 3)\n",
        "Phenotype_Soil_Weather_Data = Phenotype_Soil_Weather_Data.dropna()\n",
        "Phenotype_Soil_Weather_Data.head(2)"
      ],
      "metadata": {
        "colab": {
          "base_uri": "https://localhost:8080/",
          "height": 240
        },
        "id": "YPSKDat4_TUF",
        "outputId": "5234d0a0-27f4-483a-ce80-49cf3ede4749"
      },
      "execution_count": null,
      "outputs": [
        {
          "output_type": "execute_result",
          "data": {
            "text/plain": [
              "  Field-Location        Source                Pedigree       Family Tester  \\\n",
              "0           DEH1  WIPV17/30359  PHN11_PHW65_0512/PHT69  PHN11_PHW65  PHT69   \n",
              "1           DEH1  WIPV17/30278  PHN11_PHW65_0278/PHT69  PHN11_PHW65  PHT69   \n",
              "\n",
              "   Replicate  Block  Range  Pass Anthesis [MM/DD/YY]  ... Temperature [C]  \\\n",
              "0        1.0      1    2.0   2.0            7/2/2019  ...       23.041976   \n",
              "1        1.0      1    2.0   3.0            7/2/2019  ...       23.041976   \n",
              "\n",
              "   Dew Point [C]  Relative Humidity [%]  Solar Radiation [W/m2]  \\\n",
              "0      13.951074              72.528273              212.490939   \n",
              "1      13.951074              72.528273              212.490939   \n",
              "\n",
              "   Rainfall [mm]  Wind Speed [m/s]  Wind Direction [degrees]  Wind Gust [m/s]  \\\n",
              "0       0.012235           0.22562                141.449484         6.775455   \n",
              "1       0.012235           0.22562                141.449484         6.775455   \n",
              "\n",
              "   Soil Temperature [C]  Seed Success factor  \n",
              "0              23.81826                1.525  \n",
              "1              23.81826                2.057  \n",
              "\n",
              "[2 rows x 55 columns]"
            ],
            "text/html": [
              "\n",
              "  <div id=\"df-031f8cbd-662b-4640-9497-beaa631196d6\">\n",
              "    <div class=\"colab-df-container\">\n",
              "      <div>\n",
              "<style scoped>\n",
              "    .dataframe tbody tr th:only-of-type {\n",
              "        vertical-align: middle;\n",
              "    }\n",
              "\n",
              "    .dataframe tbody tr th {\n",
              "        vertical-align: top;\n",
              "    }\n",
              "\n",
              "    .dataframe thead th {\n",
              "        text-align: right;\n",
              "    }\n",
              "</style>\n",
              "<table border=\"1\" class=\"dataframe\">\n",
              "  <thead>\n",
              "    <tr style=\"text-align: right;\">\n",
              "      <th></th>\n",
              "      <th>Field-Location</th>\n",
              "      <th>Source</th>\n",
              "      <th>Pedigree</th>\n",
              "      <th>Family</th>\n",
              "      <th>Tester</th>\n",
              "      <th>Replicate</th>\n",
              "      <th>Block</th>\n",
              "      <th>Range</th>\n",
              "      <th>Pass</th>\n",
              "      <th>Anthesis [MM/DD/YY]</th>\n",
              "      <th>...</th>\n",
              "      <th>Temperature [C]</th>\n",
              "      <th>Dew Point [C]</th>\n",
              "      <th>Relative Humidity [%]</th>\n",
              "      <th>Solar Radiation [W/m2]</th>\n",
              "      <th>Rainfall [mm]</th>\n",
              "      <th>Wind Speed [m/s]</th>\n",
              "      <th>Wind Direction [degrees]</th>\n",
              "      <th>Wind Gust [m/s]</th>\n",
              "      <th>Soil Temperature [C]</th>\n",
              "      <th>Seed Success factor</th>\n",
              "    </tr>\n",
              "  </thead>\n",
              "  <tbody>\n",
              "    <tr>\n",
              "      <th>0</th>\n",
              "      <td>DEH1</td>\n",
              "      <td>WIPV17/30359</td>\n",
              "      <td>PHN11_PHW65_0512/PHT69</td>\n",
              "      <td>PHN11_PHW65</td>\n",
              "      <td>PHT69</td>\n",
              "      <td>1.0</td>\n",
              "      <td>1</td>\n",
              "      <td>2.0</td>\n",
              "      <td>2.0</td>\n",
              "      <td>7/2/2019</td>\n",
              "      <td>...</td>\n",
              "      <td>23.041976</td>\n",
              "      <td>13.951074</td>\n",
              "      <td>72.528273</td>\n",
              "      <td>212.490939</td>\n",
              "      <td>0.012235</td>\n",
              "      <td>0.22562</td>\n",
              "      <td>141.449484</td>\n",
              "      <td>6.775455</td>\n",
              "      <td>23.81826</td>\n",
              "      <td>1.525</td>\n",
              "    </tr>\n",
              "    <tr>\n",
              "      <th>1</th>\n",
              "      <td>DEH1</td>\n",
              "      <td>WIPV17/30278</td>\n",
              "      <td>PHN11_PHW65_0278/PHT69</td>\n",
              "      <td>PHN11_PHW65</td>\n",
              "      <td>PHT69</td>\n",
              "      <td>1.0</td>\n",
              "      <td>1</td>\n",
              "      <td>2.0</td>\n",
              "      <td>3.0</td>\n",
              "      <td>7/2/2019</td>\n",
              "      <td>...</td>\n",
              "      <td>23.041976</td>\n",
              "      <td>13.951074</td>\n",
              "      <td>72.528273</td>\n",
              "      <td>212.490939</td>\n",
              "      <td>0.012235</td>\n",
              "      <td>0.22562</td>\n",
              "      <td>141.449484</td>\n",
              "      <td>6.775455</td>\n",
              "      <td>23.81826</td>\n",
              "      <td>2.057</td>\n",
              "    </tr>\n",
              "  </tbody>\n",
              "</table>\n",
              "<p>2 rows × 55 columns</p>\n",
              "</div>\n",
              "      <button class=\"colab-df-convert\" onclick=\"convertToInteractive('df-031f8cbd-662b-4640-9497-beaa631196d6')\"\n",
              "              title=\"Convert this dataframe to an interactive table.\"\n",
              "              style=\"display:none;\">\n",
              "        \n",
              "  <svg xmlns=\"http://www.w3.org/2000/svg\" height=\"24px\"viewBox=\"0 0 24 24\"\n",
              "       width=\"24px\">\n",
              "    <path d=\"M0 0h24v24H0V0z\" fill=\"none\"/>\n",
              "    <path d=\"M18.56 5.44l.94 2.06.94-2.06 2.06-.94-2.06-.94-.94-2.06-.94 2.06-2.06.94zm-11 1L8.5 8.5l.94-2.06 2.06-.94-2.06-.94L8.5 2.5l-.94 2.06-2.06.94zm10 10l.94 2.06.94-2.06 2.06-.94-2.06-.94-.94-2.06-.94 2.06-2.06.94z\"/><path d=\"M17.41 7.96l-1.37-1.37c-.4-.4-.92-.59-1.43-.59-.52 0-1.04.2-1.43.59L10.3 9.45l-7.72 7.72c-.78.78-.78 2.05 0 2.83L4 21.41c.39.39.9.59 1.41.59.51 0 1.02-.2 1.41-.59l7.78-7.78 2.81-2.81c.8-.78.8-2.07 0-2.86zM5.41 20L4 18.59l7.72-7.72 1.47 1.35L5.41 20z\"/>\n",
              "  </svg>\n",
              "      </button>\n",
              "      \n",
              "  <style>\n",
              "    .colab-df-container {\n",
              "      display:flex;\n",
              "      flex-wrap:wrap;\n",
              "      gap: 12px;\n",
              "    }\n",
              "\n",
              "    .colab-df-convert {\n",
              "      background-color: #E8F0FE;\n",
              "      border: none;\n",
              "      border-radius: 50%;\n",
              "      cursor: pointer;\n",
              "      display: none;\n",
              "      fill: #1967D2;\n",
              "      height: 32px;\n",
              "      padding: 0 0 0 0;\n",
              "      width: 32px;\n",
              "    }\n",
              "\n",
              "    .colab-df-convert:hover {\n",
              "      background-color: #E2EBFA;\n",
              "      box-shadow: 0px 1px 2px rgba(60, 64, 67, 0.3), 0px 1px 3px 1px rgba(60, 64, 67, 0.15);\n",
              "      fill: #174EA6;\n",
              "    }\n",
              "\n",
              "    [theme=dark] .colab-df-convert {\n",
              "      background-color: #3B4455;\n",
              "      fill: #D2E3FC;\n",
              "    }\n",
              "\n",
              "    [theme=dark] .colab-df-convert:hover {\n",
              "      background-color: #434B5C;\n",
              "      box-shadow: 0px 1px 3px 1px rgba(0, 0, 0, 0.15);\n",
              "      filter: drop-shadow(0px 1px 2px rgba(0, 0, 0, 0.3));\n",
              "      fill: #FFFFFF;\n",
              "    }\n",
              "  </style>\n",
              "\n",
              "      <script>\n",
              "        const buttonEl =\n",
              "          document.querySelector('#df-031f8cbd-662b-4640-9497-beaa631196d6 button.colab-df-convert');\n",
              "        buttonEl.style.display =\n",
              "          google.colab.kernel.accessAllowed ? 'block' : 'none';\n",
              "\n",
              "        async function convertToInteractive(key) {\n",
              "          const element = document.querySelector('#df-031f8cbd-662b-4640-9497-beaa631196d6');\n",
              "          const dataTable =\n",
              "            await google.colab.kernel.invokeFunction('convertToInteractive',\n",
              "                                                     [key], {});\n",
              "          if (!dataTable) return;\n",
              "\n",
              "          const docLinkHtml = 'Like what you see? Visit the ' +\n",
              "            '<a target=\"_blank\" href=https://colab.research.google.com/notebooks/data_table.ipynb>data table notebook</a>'\n",
              "            + ' to learn more about interactive tables.';\n",
              "          element.innerHTML = '';\n",
              "          dataTable['output_type'] = 'display_data';\n",
              "          await google.colab.output.renderOutput(dataTable, element);\n",
              "          const docLink = document.createElement('div');\n",
              "          docLink.innerHTML = docLinkHtml;\n",
              "          element.appendChild(docLink);\n",
              "        }\n",
              "      </script>\n",
              "    </div>\n",
              "  </div>\n",
              "  "
            ]
          },
          "metadata": {},
          "execution_count": 3
        }
      ]
    },
    {
      "cell_type": "code",
      "source": [
        "\n",
        "cols_to_norm = ['Anthesis [days]', 'Silking [days]', 'Plant Height [cm]', 'Ear Height [cm]', 'Stand Count [# of plants]', 'Grain Moisture [%]', 'Test Weight [lbs]', 'Plant Month','Harvest Month','E Depth','1:1 Soil pH','WDRF Buffer pH','1:1 S Salts mmho/cm','Texture No','Organic Matter LOI %','Nitrate-N ppm N','lbs N/A','Potassium ppm K','Sulfate-S ppm S','Calcium ppm Ca','Magnesium ppm Mg','Sodium ppm Na','CEC/Sum of Cations me/100g','%H Sat','%K Sat','%Ca Sat','%Mg Sat','%Na Sat','Mehlich P-III ppm P','% Sand','% Silt','% Clay','Texture','Temperature [C]','Dew Point [C]','Relative Humidity [%]','Solar Radiation [W/m2]','Rainfall [mm]','Wind Speed [m/s]','Wind Direction [degrees]','Wind Gust [m/s]','Soil Temperature [C]']\n",
        "\n",
        "#cols_to_norm = ['Anthesis [days]', 'Silking [days]', 'Plant Height [cm]', 'Ear Height [cm]', 'Stand Count [# of plants]', 'Grain Moisture [%]', 'Test Weight [lbs]', 'Plant Month','Harvest Month','E Depth','1:1 Soil pH','WDRF Buffer pH','1:1 S Salts mmho/cm','Texture No','Organic Matter LOI %','Nitrate-N ppm N','lbs N/A','Potassium ppm K','Sulfate-S ppm S','Calcium ppm Ca','Magnesium ppm Mg','Sodium ppm Na','CEC/Sum of Cations me/100g','%H Sat','%K Sat','%Ca Sat','%Mg Sat','%Na Sat','Mehlich P-III ppm P','% Sand','% Silt','% Clay','Texture','Temperature [C]','Dew Point [C]','Relative Humidity [%]','Solar Radiation [W/m2]','Rainfall [mm]','Wind Speed [m/s]','Wind Direction [degrees]','Wind Gust [m/s]','Soil Temperature [C]','Seed Success factor']\n",
        "\n",
        "Phenotype_Soil_Weather_Data[cols_to_norm] = StandardScaler().fit_transform(Phenotype_Soil_Weather_Data[cols_to_norm])"
      ],
      "metadata": {
        "id": "cwMf4vcAWARK"
      },
      "execution_count": null,
      "outputs": []
    },
    {
      "cell_type": "code",
      "source": [
        "xdata = Phenotype_Soil_Weather_Data.drop([\"Seed Success factor\",\"Field-Location\",\t\"Source\",\"Pedigree\",\t\"Family\",\t\"Tester\",\t\"Replicate\",\t\"Block\",\"Anthesis [MM/DD/YY]\",\"Silking [MM/DD/YY]\",\"Location\"], axis = 1)\n",
        "ydata = Phenotype_Soil_Weather_Data[\"Seed Success factor\"]"
      ],
      "metadata": {
        "id": "Lfhdh28s_XEl"
      },
      "execution_count": null,
      "outputs": []
    },
    {
      "cell_type": "code",
      "source": [
        "x_train, x_test, y_train, y_test = train_test_split(xdata, ydata, test_size = 0.4,shuffle = True, random_state = 42)"
      ],
      "metadata": {
        "id": "JWJ8NJ5U_XyF"
      },
      "execution_count": null,
      "outputs": []
    },
    {
      "cell_type": "code",
      "source": [
        "reg = MLPRegressor(solver='lbfgs', hidden_layer_sizes=50, max_iter=10000 ,random_state=1)\n",
        "reg.fit(x_train, y_train)\n",
        "y_pred = reg.predict(x_test)"
      ],
      "metadata": {
        "id": "KX45z29x_ybJ"
      },
      "execution_count": null,
      "outputs": []
    },
    {
      "cell_type": "code",
      "source": [
        "print(y_pred)\n",
        "print(y_test)"
      ],
      "metadata": {
        "colab": {
          "base_uri": "https://localhost:8080/"
        },
        "id": "VMmQ1SaTIF_O",
        "outputId": "e33fc376-574f-4287-b2c0-2011bb2dd7ec"
      },
      "execution_count": null,
      "outputs": [
        {
          "output_type": "stream",
          "name": "stdout",
          "text": [
            "[2.36413699 1.96593039 1.5820546  ... 2.8688705  2.18020393 2.30922851]\n",
            "684     2.620\n",
            "3678    1.889\n",
            "9787    1.658\n",
            "3696    2.125\n",
            "3714    1.979\n",
            "        ...  \n",
            "7762    2.809\n",
            "7484    2.922\n",
            "1876    3.037\n",
            "572     2.364\n",
            "185     2.704\n",
            "Name: Seed Success factor, Length: 2762, dtype: float64\n"
          ]
        }
      ]
    },
    {
      "cell_type": "code",
      "source": [
        "acc_score = r2_score(y_test, y_pred)\n",
        "Mean_Error = mean_squared_error(y_test, y_pred, squared=False)\n",
        "print(\"Accuracy score\")\n",
        "print(acc_score)\n",
        "print(\"Error Bracket\")\n",
        "print(Mean_Error)"
      ],
      "metadata": {
        "colab": {
          "base_uri": "https://localhost:8080/"
        },
        "id": "34myN_UNGm2B",
        "outputId": "877ab9ab-af43-4918-e62b-c5225b6506ae"
      },
      "execution_count": null,
      "outputs": [
        {
          "output_type": "stream",
          "name": "stdout",
          "text": [
            "Accuracy score\n",
            "0.7231937402178876\n",
            "Error Bracket\n",
            "0.3053780239554632\n"
          ]
        }
      ]
    },
    {
      "cell_type": "code",
      "source": [
        "param_grid = {\n",
        "    'hidden_layer_sizes': [(150,100,50), (120,80,40), (100,50,30)],\n",
        "    'max_iter': [1000],\n",
        "    'activation': ['relu'],\n",
        "    'solver': ['adam'],\n",
        "    'alpha': [0.05],\n",
        "    'learning_rate': ['constant'],\n",
        "}\n",
        "\n",
        "# param_grid = {\n",
        "#     'hidden_layer_sizes': [(150,100,50), (120,80,40), (100,50,30)],\n",
        "#     'max_iter': [50, 100],\n",
        "#     'activation': ['tanh', 'relu'],\n",
        "#     'solver': ['sgd', 'adam'],\n",
        "#     'alpha': [0.0001, 0.05],\n",
        "#     'learning_rate': ['constant','adaptive'],\n",
        "# }"
      ],
      "metadata": {
        "id": "BZ6qcJy9QKnd"
      },
      "execution_count": null,
      "outputs": []
    },
    {
      "cell_type": "code",
      "source": [
        "grid = GridSearchCV(reg, param_grid, n_jobs= -1, cv=5)\n",
        "grid.fit(x_train, y_train)"
      ],
      "metadata": {
        "colab": {
          "base_uri": "https://localhost:8080/"
        },
        "id": "73JdkFhEQRNQ",
        "outputId": "2d156aa4-ffb1-4b32-ad99-8a039e88ec2d"
      },
      "execution_count": null,
      "outputs": [
        {
          "output_type": "execute_result",
          "data": {
            "text/plain": [
              "GridSearchCV(cv=5,\n",
              "             estimator=MLPRegressor(alpha=0.05,\n",
              "                                    hidden_layer_sizes=(100, 50, 30),\n",
              "                                    max_iter=1000),\n",
              "             n_jobs=-1,\n",
              "             param_grid={'activation': ['relu'], 'alpha': [0.05],\n",
              "                         'hidden_layer_sizes': [(150, 100, 50)],\n",
              "                         'learning_rate': ['constant'], 'max_iter': [1000],\n",
              "                         'solver': ['adam']})"
            ]
          },
          "metadata": {},
          "execution_count": 29
        }
      ]
    },
    {
      "cell_type": "code",
      "source": [
        "Params = grid.best_params_"
      ],
      "metadata": {
        "id": "RHY7KmieVk5R"
      },
      "execution_count": null,
      "outputs": []
    },
    {
      "cell_type": "code",
      "source": [
        "Params = {'activation': 'relu',\n",
        " 'alpha': 0.05,\n",
        " 'hidden_layer_sizes': (150, 100, 50),\n",
        " 'learning_rate': 'constant',\n",
        " 'max_iter': 1000,\n",
        " 'solver': 'adam'}"
      ],
      "metadata": {
        "id": "NlfC23AdVnsK"
      },
      "execution_count": null,
      "outputs": []
    },
    {
      "cell_type": "code",
      "source": [
        "reg = MLPRegressor(**Params)\n",
        "reg.fit(x_train, y_train)"
      ],
      "metadata": {
        "colab": {
          "base_uri": "https://localhost:8080/"
        },
        "id": "XKopCfIMQoon",
        "outputId": "e078cfe7-ad20-47a3-af97-6e2ac1465b69"
      },
      "execution_count": null,
      "outputs": [
        {
          "output_type": "execute_result",
          "data": {
            "text/plain": [
              "MLPRegressor(alpha=0.05, hidden_layer_sizes=(150, 100, 50), max_iter=1000)"
            ]
          },
          "metadata": {},
          "execution_count": 11
        }
      ]
    },
    {
      "cell_type": "code",
      "source": [
        "acc_score = r2_score(y_test, y_pred)\n",
        "Mean_Error = mean_squared_error(y_test, y_pred, squared=False)\n",
        "print(\"Accuracy score\")\n",
        "print(acc_score)\n",
        "print(\"Error Bracket\")\n",
        "print(Mean_Error)\n",
        "\n",
        "\n",
        "Results = pd.read_csv(\"/content/drive/MyDrive/University of reading/MSC FINAL project/Data/Data Files/Results /LAResults.csv\",index_col=[0])\n",
        "\n",
        "dict = {'Learning Algorithum': 'MLP Regressor', 'R2 Score': acc_score, 'Error Bracket': Mean_Error}\n",
        "\n",
        "Results = Results.append(dict, ignore_index = True)\n"
      ],
      "metadata": {
        "colab": {
          "base_uri": "https://localhost:8080/"
        },
        "id": "MFKu1OS0Wz2Y",
        "outputId": "50bab2a3-7075-44a2-afae-803ecdeaec57"
      },
      "execution_count": null,
      "outputs": [
        {
          "output_type": "stream",
          "name": "stdout",
          "text": [
            "Accuracy score\n",
            "0.7231937402178876\n",
            "Error Bracket\n",
            "0.3053780239554632\n"
          ]
        }
      ]
    },
    {
      "cell_type": "code",
      "source": [
        "Results"
      ],
      "metadata": {
        "colab": {
          "base_uri": "https://localhost:8080/",
          "height": 237
        },
        "id": "c2jWManwa-6L",
        "outputId": "80ecf9b8-9831-4228-9ee4-e8142feb4ea4"
      },
      "execution_count": null,
      "outputs": [
        {
          "output_type": "execute_result",
          "data": {
            "text/plain": [
              "            Learning Algorithum  R2 Score  Error Bracket\n",
              "0               Regression Tree  0.671146       0.332852\n",
              "1                 Random Forest  0.720002       0.303280\n",
              "2                KNN Regression  0.693163       0.318367\n",
              "3   Gradient Boosting Regressor  0.741307       0.295217\n",
              "4  Convolutional Nerual Network  0.696746       0.319638\n",
              "5                 MLP Regressor  0.723194       0.305378"
            ],
            "text/html": [
              "\n",
              "  <div id=\"df-cb43047a-21c2-4f18-911f-b19440391bb9\">\n",
              "    <div class=\"colab-df-container\">\n",
              "      <div>\n",
              "<style scoped>\n",
              "    .dataframe tbody tr th:only-of-type {\n",
              "        vertical-align: middle;\n",
              "    }\n",
              "\n",
              "    .dataframe tbody tr th {\n",
              "        vertical-align: top;\n",
              "    }\n",
              "\n",
              "    .dataframe thead th {\n",
              "        text-align: right;\n",
              "    }\n",
              "</style>\n",
              "<table border=\"1\" class=\"dataframe\">\n",
              "  <thead>\n",
              "    <tr style=\"text-align: right;\">\n",
              "      <th></th>\n",
              "      <th>Learning Algorithum</th>\n",
              "      <th>R2 Score</th>\n",
              "      <th>Error Bracket</th>\n",
              "    </tr>\n",
              "  </thead>\n",
              "  <tbody>\n",
              "    <tr>\n",
              "      <th>0</th>\n",
              "      <td>Regression Tree</td>\n",
              "      <td>0.671146</td>\n",
              "      <td>0.332852</td>\n",
              "    </tr>\n",
              "    <tr>\n",
              "      <th>1</th>\n",
              "      <td>Random Forest</td>\n",
              "      <td>0.720002</td>\n",
              "      <td>0.303280</td>\n",
              "    </tr>\n",
              "    <tr>\n",
              "      <th>2</th>\n",
              "      <td>KNN Regression</td>\n",
              "      <td>0.693163</td>\n",
              "      <td>0.318367</td>\n",
              "    </tr>\n",
              "    <tr>\n",
              "      <th>3</th>\n",
              "      <td>Gradient Boosting Regressor</td>\n",
              "      <td>0.741307</td>\n",
              "      <td>0.295217</td>\n",
              "    </tr>\n",
              "    <tr>\n",
              "      <th>4</th>\n",
              "      <td>Convolutional Nerual Network</td>\n",
              "      <td>0.696746</td>\n",
              "      <td>0.319638</td>\n",
              "    </tr>\n",
              "    <tr>\n",
              "      <th>5</th>\n",
              "      <td>MLP Regressor</td>\n",
              "      <td>0.723194</td>\n",
              "      <td>0.305378</td>\n",
              "    </tr>\n",
              "  </tbody>\n",
              "</table>\n",
              "</div>\n",
              "      <button class=\"colab-df-convert\" onclick=\"convertToInteractive('df-cb43047a-21c2-4f18-911f-b19440391bb9')\"\n",
              "              title=\"Convert this dataframe to an interactive table.\"\n",
              "              style=\"display:none;\">\n",
              "        \n",
              "  <svg xmlns=\"http://www.w3.org/2000/svg\" height=\"24px\"viewBox=\"0 0 24 24\"\n",
              "       width=\"24px\">\n",
              "    <path d=\"M0 0h24v24H0V0z\" fill=\"none\"/>\n",
              "    <path d=\"M18.56 5.44l.94 2.06.94-2.06 2.06-.94-2.06-.94-.94-2.06-.94 2.06-2.06.94zm-11 1L8.5 8.5l.94-2.06 2.06-.94-2.06-.94L8.5 2.5l-.94 2.06-2.06.94zm10 10l.94 2.06.94-2.06 2.06-.94-2.06-.94-.94-2.06-.94 2.06-2.06.94z\"/><path d=\"M17.41 7.96l-1.37-1.37c-.4-.4-.92-.59-1.43-.59-.52 0-1.04.2-1.43.59L10.3 9.45l-7.72 7.72c-.78.78-.78 2.05 0 2.83L4 21.41c.39.39.9.59 1.41.59.51 0 1.02-.2 1.41-.59l7.78-7.78 2.81-2.81c.8-.78.8-2.07 0-2.86zM5.41 20L4 18.59l7.72-7.72 1.47 1.35L5.41 20z\"/>\n",
              "  </svg>\n",
              "      </button>\n",
              "      \n",
              "  <style>\n",
              "    .colab-df-container {\n",
              "      display:flex;\n",
              "      flex-wrap:wrap;\n",
              "      gap: 12px;\n",
              "    }\n",
              "\n",
              "    .colab-df-convert {\n",
              "      background-color: #E8F0FE;\n",
              "      border: none;\n",
              "      border-radius: 50%;\n",
              "      cursor: pointer;\n",
              "      display: none;\n",
              "      fill: #1967D2;\n",
              "      height: 32px;\n",
              "      padding: 0 0 0 0;\n",
              "      width: 32px;\n",
              "    }\n",
              "\n",
              "    .colab-df-convert:hover {\n",
              "      background-color: #E2EBFA;\n",
              "      box-shadow: 0px 1px 2px rgba(60, 64, 67, 0.3), 0px 1px 3px 1px rgba(60, 64, 67, 0.15);\n",
              "      fill: #174EA6;\n",
              "    }\n",
              "\n",
              "    [theme=dark] .colab-df-convert {\n",
              "      background-color: #3B4455;\n",
              "      fill: #D2E3FC;\n",
              "    }\n",
              "\n",
              "    [theme=dark] .colab-df-convert:hover {\n",
              "      background-color: #434B5C;\n",
              "      box-shadow: 0px 1px 3px 1px rgba(0, 0, 0, 0.15);\n",
              "      filter: drop-shadow(0px 1px 2px rgba(0, 0, 0, 0.3));\n",
              "      fill: #FFFFFF;\n",
              "    }\n",
              "  </style>\n",
              "\n",
              "      <script>\n",
              "        const buttonEl =\n",
              "          document.querySelector('#df-cb43047a-21c2-4f18-911f-b19440391bb9 button.colab-df-convert');\n",
              "        buttonEl.style.display =\n",
              "          google.colab.kernel.accessAllowed ? 'block' : 'none';\n",
              "\n",
              "        async function convertToInteractive(key) {\n",
              "          const element = document.querySelector('#df-cb43047a-21c2-4f18-911f-b19440391bb9');\n",
              "          const dataTable =\n",
              "            await google.colab.kernel.invokeFunction('convertToInteractive',\n",
              "                                                     [key], {});\n",
              "          if (!dataTable) return;\n",
              "\n",
              "          const docLinkHtml = 'Like what you see? Visit the ' +\n",
              "            '<a target=\"_blank\" href=https://colab.research.google.com/notebooks/data_table.ipynb>data table notebook</a>'\n",
              "            + ' to learn more about interactive tables.';\n",
              "          element.innerHTML = '';\n",
              "          dataTable['output_type'] = 'display_data';\n",
              "          await google.colab.output.renderOutput(dataTable, element);\n",
              "          const docLink = document.createElement('div');\n",
              "          docLink.innerHTML = docLinkHtml;\n",
              "          element.appendChild(docLink);\n",
              "        }\n",
              "      </script>\n",
              "    </div>\n",
              "  </div>\n",
              "  "
            ]
          },
          "metadata": {},
          "execution_count": 14
        }
      ]
    },
    {
      "cell_type": "code",
      "source": [
        "\n",
        "Results.to_csv('LAResults.csv')\n",
        "!cp LAResults.csv \"/content/drive/MyDrive/University of reading/MSC FINAL project/Data/Data Files/Results \""
      ],
      "metadata": {
        "id": "yy6dRkKkbARq"
      },
      "execution_count": null,
      "outputs": []
    }
  ]
}