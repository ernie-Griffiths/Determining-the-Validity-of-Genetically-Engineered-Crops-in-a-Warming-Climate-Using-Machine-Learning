{
  "nbformat": 4,
  "nbformat_minor": 0,
  "metadata": {
    "colab": {
      "provenance": [],
      "mount_file_id": "1tHpmxCjbPl1D2UN4BwHklOBNVDt61Mpj",
      "authorship_tag": "ABX9TyMiJdNtngxzxu85IlOqaWNS",
      "include_colab_link": true
    },
    "kernelspec": {
      "name": "python3",
      "display_name": "Python 3"
    },
    "language_info": {
      "name": "python"
    }
  },
  "cells": [
    {
      "cell_type": "markdown",
      "metadata": {
        "id": "view-in-github",
        "colab_type": "text"
      },
      "source": [
        "<a href=\"https://colab.research.google.com/github/ernie-Griffiths/Determining-the-Validity-of-Genetically-Engineered-Crops-in-a-Warming-Climate-Using-Machine-Learning/blob/main/RANDOM_FOREST_REGRESSION_.ipynb\" target=\"_parent\"><img src=\"https://colab.research.google.com/assets/colab-badge.svg\" alt=\"Open In Colab\"/></a>"
      ]
    },
    {
      "cell_type": "code",
      "execution_count": null,
      "metadata": {
        "id": "SlSwdxrExQdf"
      },
      "outputs": [],
      "source": [
        "import numpy as np\n",
        "import pandas as pd\n",
        "\n",
        "import matplotlib.pyplot as plt\n",
        "\n",
        "from sklearn.model_selection import train_test_split\n",
        "\n",
        "from sklearn.metrics import r2_score\n",
        "from sklearn.metrics import mean_squared_error\n",
        "\n",
        "\n",
        "from sklearn.model_selection import GridSearchCV\n",
        "\n",
        "from sklearn.ensemble import RandomForestRegressor\n",
        "\n",
        "\n",
        "from sklearn.tree import plot_tree\n"
      ]
    },
    {
      "cell_type": "code",
      "source": [
        "Phenotype_Soil_Weather_Data = pd.read_csv(\"/content/drive/MyDrive/University of reading/MSC FINAL project/Data/Data Files/Finalised data/FeatureSelected_Phenotype_Soil_Weather_Data.csv\",index_col=[0])"
      ],
      "metadata": {
        "id": "wgncAlcPxtk-"
      },
      "execution_count": null,
      "outputs": []
    },
    {
      "cell_type": "code",
      "source": [
        "Phenotype_Soil_Weather_Data['Texture'] = pd.factorize(Phenotype_Soil_Weather_Data['Texture'])[0] + 1\n",
        "Phenotype_Soil_Weather_Data['Seed Success factor'] = Phenotype_Soil_Weather_Data['Seed Success factor'].round(decimals = 3)\n",
        "Phenotype_Soil_Weather_Data = Phenotype_Soil_Weather_Data.dropna()\n",
        "Phenotype_Soil_Weather_Data.head(2)"
      ],
      "metadata": {
        "colab": {
          "base_uri": "https://localhost:8080/",
          "height": 240
        },
        "id": "xMSgP6Pnx5B4",
        "outputId": "8a315cbe-9d3f-4ef1-ed39-6ed5f501fe52"
      },
      "execution_count": null,
      "outputs": [
        {
          "output_type": "execute_result",
          "data": {
            "text/plain": [
              "  Field-Location        Source                Pedigree       Family Tester  \\\n",
              "0           DEH1  WIPV17/30359  PHN11_PHW65_0512/PHT69  PHN11_PHW65  PHT69   \n",
              "1           DEH1  WIPV17/30278  PHN11_PHW65_0278/PHT69  PHN11_PHW65  PHT69   \n",
              "\n",
              "   Replicate  Block  Range  Pass Anthesis [MM/DD/YY]  ... Temperature [C]  \\\n",
              "0        1.0      1    2.0   2.0            7/2/2019  ...       23.041976   \n",
              "1        1.0      1    2.0   3.0            7/2/2019  ...       23.041976   \n",
              "\n",
              "   Dew Point [C]  Relative Humidity [%]  Solar Radiation [W/m2]  \\\n",
              "0      13.951074              72.528273              212.490939   \n",
              "1      13.951074              72.528273              212.490939   \n",
              "\n",
              "   Rainfall [mm]  Wind Speed [m/s]  Wind Direction [degrees]  Wind Gust [m/s]  \\\n",
              "0       0.012235           0.22562                141.449484         6.775455   \n",
              "1       0.012235           0.22562                141.449484         6.775455   \n",
              "\n",
              "   Soil Temperature [C]  Seed Success factor  \n",
              "0              23.81826                1.525  \n",
              "1              23.81826                2.057  \n",
              "\n",
              "[2 rows x 55 columns]"
            ],
            "text/html": [
              "\n",
              "  <div id=\"df-336663cb-b692-411d-ab42-241072484f53\">\n",
              "    <div class=\"colab-df-container\">\n",
              "      <div>\n",
              "<style scoped>\n",
              "    .dataframe tbody tr th:only-of-type {\n",
              "        vertical-align: middle;\n",
              "    }\n",
              "\n",
              "    .dataframe tbody tr th {\n",
              "        vertical-align: top;\n",
              "    }\n",
              "\n",
              "    .dataframe thead th {\n",
              "        text-align: right;\n",
              "    }\n",
              "</style>\n",
              "<table border=\"1\" class=\"dataframe\">\n",
              "  <thead>\n",
              "    <tr style=\"text-align: right;\">\n",
              "      <th></th>\n",
              "      <th>Field-Location</th>\n",
              "      <th>Source</th>\n",
              "      <th>Pedigree</th>\n",
              "      <th>Family</th>\n",
              "      <th>Tester</th>\n",
              "      <th>Replicate</th>\n",
              "      <th>Block</th>\n",
              "      <th>Range</th>\n",
              "      <th>Pass</th>\n",
              "      <th>Anthesis [MM/DD/YY]</th>\n",
              "      <th>...</th>\n",
              "      <th>Temperature [C]</th>\n",
              "      <th>Dew Point [C]</th>\n",
              "      <th>Relative Humidity [%]</th>\n",
              "      <th>Solar Radiation [W/m2]</th>\n",
              "      <th>Rainfall [mm]</th>\n",
              "      <th>Wind Speed [m/s]</th>\n",
              "      <th>Wind Direction [degrees]</th>\n",
              "      <th>Wind Gust [m/s]</th>\n",
              "      <th>Soil Temperature [C]</th>\n",
              "      <th>Seed Success factor</th>\n",
              "    </tr>\n",
              "  </thead>\n",
              "  <tbody>\n",
              "    <tr>\n",
              "      <th>0</th>\n",
              "      <td>DEH1</td>\n",
              "      <td>WIPV17/30359</td>\n",
              "      <td>PHN11_PHW65_0512/PHT69</td>\n",
              "      <td>PHN11_PHW65</td>\n",
              "      <td>PHT69</td>\n",
              "      <td>1.0</td>\n",
              "      <td>1</td>\n",
              "      <td>2.0</td>\n",
              "      <td>2.0</td>\n",
              "      <td>7/2/2019</td>\n",
              "      <td>...</td>\n",
              "      <td>23.041976</td>\n",
              "      <td>13.951074</td>\n",
              "      <td>72.528273</td>\n",
              "      <td>212.490939</td>\n",
              "      <td>0.012235</td>\n",
              "      <td>0.22562</td>\n",
              "      <td>141.449484</td>\n",
              "      <td>6.775455</td>\n",
              "      <td>23.81826</td>\n",
              "      <td>1.525</td>\n",
              "    </tr>\n",
              "    <tr>\n",
              "      <th>1</th>\n",
              "      <td>DEH1</td>\n",
              "      <td>WIPV17/30278</td>\n",
              "      <td>PHN11_PHW65_0278/PHT69</td>\n",
              "      <td>PHN11_PHW65</td>\n",
              "      <td>PHT69</td>\n",
              "      <td>1.0</td>\n",
              "      <td>1</td>\n",
              "      <td>2.0</td>\n",
              "      <td>3.0</td>\n",
              "      <td>7/2/2019</td>\n",
              "      <td>...</td>\n",
              "      <td>23.041976</td>\n",
              "      <td>13.951074</td>\n",
              "      <td>72.528273</td>\n",
              "      <td>212.490939</td>\n",
              "      <td>0.012235</td>\n",
              "      <td>0.22562</td>\n",
              "      <td>141.449484</td>\n",
              "      <td>6.775455</td>\n",
              "      <td>23.81826</td>\n",
              "      <td>2.057</td>\n",
              "    </tr>\n",
              "  </tbody>\n",
              "</table>\n",
              "<p>2 rows × 55 columns</p>\n",
              "</div>\n",
              "      <button class=\"colab-df-convert\" onclick=\"convertToInteractive('df-336663cb-b692-411d-ab42-241072484f53')\"\n",
              "              title=\"Convert this dataframe to an interactive table.\"\n",
              "              style=\"display:none;\">\n",
              "        \n",
              "  <svg xmlns=\"http://www.w3.org/2000/svg\" height=\"24px\"viewBox=\"0 0 24 24\"\n",
              "       width=\"24px\">\n",
              "    <path d=\"M0 0h24v24H0V0z\" fill=\"none\"/>\n",
              "    <path d=\"M18.56 5.44l.94 2.06.94-2.06 2.06-.94-2.06-.94-.94-2.06-.94 2.06-2.06.94zm-11 1L8.5 8.5l.94-2.06 2.06-.94-2.06-.94L8.5 2.5l-.94 2.06-2.06.94zm10 10l.94 2.06.94-2.06 2.06-.94-2.06-.94-.94-2.06-.94 2.06-2.06.94z\"/><path d=\"M17.41 7.96l-1.37-1.37c-.4-.4-.92-.59-1.43-.59-.52 0-1.04.2-1.43.59L10.3 9.45l-7.72 7.72c-.78.78-.78 2.05 0 2.83L4 21.41c.39.39.9.59 1.41.59.51 0 1.02-.2 1.41-.59l7.78-7.78 2.81-2.81c.8-.78.8-2.07 0-2.86zM5.41 20L4 18.59l7.72-7.72 1.47 1.35L5.41 20z\"/>\n",
              "  </svg>\n",
              "      </button>\n",
              "      \n",
              "  <style>\n",
              "    .colab-df-container {\n",
              "      display:flex;\n",
              "      flex-wrap:wrap;\n",
              "      gap: 12px;\n",
              "    }\n",
              "\n",
              "    .colab-df-convert {\n",
              "      background-color: #E8F0FE;\n",
              "      border: none;\n",
              "      border-radius: 50%;\n",
              "      cursor: pointer;\n",
              "      display: none;\n",
              "      fill: #1967D2;\n",
              "      height: 32px;\n",
              "      padding: 0 0 0 0;\n",
              "      width: 32px;\n",
              "    }\n",
              "\n",
              "    .colab-df-convert:hover {\n",
              "      background-color: #E2EBFA;\n",
              "      box-shadow: 0px 1px 2px rgba(60, 64, 67, 0.3), 0px 1px 3px 1px rgba(60, 64, 67, 0.15);\n",
              "      fill: #174EA6;\n",
              "    }\n",
              "\n",
              "    [theme=dark] .colab-df-convert {\n",
              "      background-color: #3B4455;\n",
              "      fill: #D2E3FC;\n",
              "    }\n",
              "\n",
              "    [theme=dark] .colab-df-convert:hover {\n",
              "      background-color: #434B5C;\n",
              "      box-shadow: 0px 1px 3px 1px rgba(0, 0, 0, 0.15);\n",
              "      filter: drop-shadow(0px 1px 2px rgba(0, 0, 0, 0.3));\n",
              "      fill: #FFFFFF;\n",
              "    }\n",
              "  </style>\n",
              "\n",
              "      <script>\n",
              "        const buttonEl =\n",
              "          document.querySelector('#df-336663cb-b692-411d-ab42-241072484f53 button.colab-df-convert');\n",
              "        buttonEl.style.display =\n",
              "          google.colab.kernel.accessAllowed ? 'block' : 'none';\n",
              "\n",
              "        async function convertToInteractive(key) {\n",
              "          const element = document.querySelector('#df-336663cb-b692-411d-ab42-241072484f53');\n",
              "          const dataTable =\n",
              "            await google.colab.kernel.invokeFunction('convertToInteractive',\n",
              "                                                     [key], {});\n",
              "          if (!dataTable) return;\n",
              "\n",
              "          const docLinkHtml = 'Like what you see? Visit the ' +\n",
              "            '<a target=\"_blank\" href=https://colab.research.google.com/notebooks/data_table.ipynb>data table notebook</a>'\n",
              "            + ' to learn more about interactive tables.';\n",
              "          element.innerHTML = '';\n",
              "          dataTable['output_type'] = 'display_data';\n",
              "          await google.colab.output.renderOutput(dataTable, element);\n",
              "          const docLink = document.createElement('div');\n",
              "          docLink.innerHTML = docLinkHtml;\n",
              "          element.appendChild(docLink);\n",
              "        }\n",
              "      </script>\n",
              "    </div>\n",
              "  </div>\n",
              "  "
            ]
          },
          "metadata": {},
          "execution_count": 3
        }
      ]
    },
    {
      "cell_type": "code",
      "source": [
        "xdata = Phenotype_Soil_Weather_Data.drop([\"Seed Success factor\",\"Field-Location\",\t\"Source\",\"Pedigree\",\t\"Family\",\t\"Tester\",\t\"Replicate\",\t\"Block\",\"Anthesis [MM/DD/YY]\",\"Silking [MM/DD/YY]\",\"Location\"], axis = 1)\n",
        "ydata = Phenotype_Soil_Weather_Data[\"Seed Success factor\"]"
      ],
      "metadata": {
        "id": "MmBvBkK_x7Us"
      },
      "execution_count": null,
      "outputs": []
    },
    {
      "cell_type": "code",
      "source": [
        "x_train, x_test, y_train, y_test = train_test_split(xdata, ydata, test_size = 0.2,shuffle = True, random_state = 42)"
      ],
      "metadata": {
        "id": "pG98hScJx-sV"
      },
      "execution_count": null,
      "outputs": []
    },
    {
      "cell_type": "code",
      "source": [
        "reg = RandomForestRegressor(n_estimators=10, random_state = 0)\n",
        "reg.fit(x_train,y_train)"
      ],
      "metadata": {
        "colab": {
          "base_uri": "https://localhost:8080/"
        },
        "id": "jue_RplMzyTq",
        "outputId": "7ce012b2-4c64-4238-fec1-f711353d91f6"
      },
      "execution_count": null,
      "outputs": [
        {
          "output_type": "execute_result",
          "data": {
            "text/plain": [
              "RandomForestRegressor(n_estimators=10, random_state=0)"
            ]
          },
          "metadata": {},
          "execution_count": 6
        }
      ]
    },
    {
      "cell_type": "code",
      "source": [
        "y_pred = reg.predict(x_test)\n",
        "\n",
        "acc_score = r2_score(y_test, y_pred)\n",
        "Mean_Error = mean_squared_error(y_test, y_pred, squared=False)\n",
        "print(\"Accuracy score\")\n",
        "print(acc_score)\n",
        "print(\"Error Bracket\")\n",
        "print(Mean_Error)"
      ],
      "metadata": {
        "colab": {
          "base_uri": "https://localhost:8080/"
        },
        "id": "EjbnnyHv1MhO",
        "outputId": "4be48c08-1d44-486e-f71d-025ef2001c9d"
      },
      "execution_count": null,
      "outputs": [
        {
          "output_type": "stream",
          "name": "stdout",
          "text": [
            "Accuracy score\n",
            "0.7063500071414384\n",
            "Error Bracket\n",
            "0.31058542124266975\n"
          ]
        }
      ]
    },
    {
      "cell_type": "code",
      "source": [
        "# GSparams = {\n",
        "#             \"n_estimators\" : range(15,30),\n",
        "#             \"max_depth\" : range(4,9),\n",
        "#             \"min_samples_leaf\" : range(1,20),\n",
        "#             \"random_state\" : [0],\n",
        "#             }\n",
        "\n",
        "GSparams = {\n",
        "            \"n_estimators\" : [29],\n",
        "            \"max_depth\" : [8],\n",
        "            \"min_samples_leaf\" : [4],\n",
        "            \"random_state\" : [0],\n",
        "             }\n",
        "\n",
        "\n",
        "model = GridSearchCV(reg, GSparams, cv=5)\n",
        "model.fit(x_train,y_train)\n",
        "selectedParams = model.best_params_\n",
        "selectedParams"
      ],
      "metadata": {
        "id": "_0DmsBAL4zkJ",
        "colab": {
          "base_uri": "https://localhost:8080/"
        },
        "outputId": "8ee21817-a66e-48c2-8642-a54d9085b5f8"
      },
      "execution_count": null,
      "outputs": [
        {
          "output_type": "execute_result",
          "data": {
            "text/plain": [
              "{'max_depth': 8, 'min_samples_leaf': 4, 'n_estimators': 29, 'random_state': 0}"
            ]
          },
          "metadata": {},
          "execution_count": 8
        }
      ]
    },
    {
      "cell_type": "code",
      "source": [
        "reg = RandomForestRegressor(**selectedParams)\n",
        "reg.fit(x_train,y_train)\n",
        "\n",
        "y_pred = model.predict(x_test)\n",
        "\n",
        "acc_score = r2_score(y_test, y_pred)\n",
        "Mean_Error = mean_squared_error(y_test, y_pred, squared=False)\n",
        "print(\"Accuracy score\")\n",
        "print(acc_score)\n",
        "print(\"Error Bracket\")\n",
        "print(Mean_Error)\n",
        "\n",
        "Results = pd.read_csv(\"/content/drive/MyDrive/University of reading/MSC FINAL project/Data/Data Files/Results /LAResults.csv\",index_col=[0])\n",
        "\n",
        "dict = {'Learning Algorithum': 'Random Forest', 'R2 Score': acc_score, 'Error Bracket': Mean_Error}\n",
        "\n",
        "Results = Results.append(dict, ignore_index = True)\n"
      ],
      "metadata": {
        "id": "GaJQkgBQ6XKg",
        "colab": {
          "base_uri": "https://localhost:8080/"
        },
        "outputId": "cccee407-e12f-4759-c267-43b3a60948a5"
      },
      "execution_count": null,
      "outputs": [
        {
          "output_type": "stream",
          "name": "stdout",
          "text": [
            "Accuracy score\n",
            "0.7200016763148571\n",
            "Error Bracket\n",
            "0.30328000919964665\n"
          ]
        }
      ]
    },
    {
      "cell_type": "code",
      "source": [
        "Results"
      ],
      "metadata": {
        "colab": {
          "base_uri": "https://localhost:8080/",
          "height": 300
        },
        "id": "o88jqL65Rbo7",
        "outputId": "82a8587b-17d2-4d32-d9a1-95942c9472be"
      },
      "execution_count": null,
      "outputs": [
        {
          "output_type": "execute_result",
          "data": {
            "text/plain": [
              "            Learning Algorithum  R2 Score  Error Bracket\n",
              "0               Regression Tree  0.671146       0.332852\n",
              "1                 Random Forest  0.720002       0.303280\n",
              "2                KNN Regression  0.693163       0.318367\n",
              "3   Gradient Boosting Regressor  0.741307       0.295217\n",
              "4  Convolutional Nerual Network  0.696746       0.319638\n",
              "5                 MLP Regressor  0.723194       0.305378\n",
              "6      Radial Basis Function NN  0.722957       0.528065\n",
              "7                 Random Forest  0.720002       0.303280"
            ],
            "text/html": [
              "\n",
              "  <div id=\"df-09a89aeb-da99-4367-bbff-61a5fde2a4da\">\n",
              "    <div class=\"colab-df-container\">\n",
              "      <div>\n",
              "<style scoped>\n",
              "    .dataframe tbody tr th:only-of-type {\n",
              "        vertical-align: middle;\n",
              "    }\n",
              "\n",
              "    .dataframe tbody tr th {\n",
              "        vertical-align: top;\n",
              "    }\n",
              "\n",
              "    .dataframe thead th {\n",
              "        text-align: right;\n",
              "    }\n",
              "</style>\n",
              "<table border=\"1\" class=\"dataframe\">\n",
              "  <thead>\n",
              "    <tr style=\"text-align: right;\">\n",
              "      <th></th>\n",
              "      <th>Learning Algorithum</th>\n",
              "      <th>R2 Score</th>\n",
              "      <th>Error Bracket</th>\n",
              "    </tr>\n",
              "  </thead>\n",
              "  <tbody>\n",
              "    <tr>\n",
              "      <th>0</th>\n",
              "      <td>Regression Tree</td>\n",
              "      <td>0.671146</td>\n",
              "      <td>0.332852</td>\n",
              "    </tr>\n",
              "    <tr>\n",
              "      <th>1</th>\n",
              "      <td>Random Forest</td>\n",
              "      <td>0.720002</td>\n",
              "      <td>0.303280</td>\n",
              "    </tr>\n",
              "    <tr>\n",
              "      <th>2</th>\n",
              "      <td>KNN Regression</td>\n",
              "      <td>0.693163</td>\n",
              "      <td>0.318367</td>\n",
              "    </tr>\n",
              "    <tr>\n",
              "      <th>3</th>\n",
              "      <td>Gradient Boosting Regressor</td>\n",
              "      <td>0.741307</td>\n",
              "      <td>0.295217</td>\n",
              "    </tr>\n",
              "    <tr>\n",
              "      <th>4</th>\n",
              "      <td>Convolutional Nerual Network</td>\n",
              "      <td>0.696746</td>\n",
              "      <td>0.319638</td>\n",
              "    </tr>\n",
              "    <tr>\n",
              "      <th>5</th>\n",
              "      <td>MLP Regressor</td>\n",
              "      <td>0.723194</td>\n",
              "      <td>0.305378</td>\n",
              "    </tr>\n",
              "    <tr>\n",
              "      <th>6</th>\n",
              "      <td>Radial Basis Function NN</td>\n",
              "      <td>0.722957</td>\n",
              "      <td>0.528065</td>\n",
              "    </tr>\n",
              "    <tr>\n",
              "      <th>7</th>\n",
              "      <td>Random Forest</td>\n",
              "      <td>0.720002</td>\n",
              "      <td>0.303280</td>\n",
              "    </tr>\n",
              "  </tbody>\n",
              "</table>\n",
              "</div>\n",
              "      <button class=\"colab-df-convert\" onclick=\"convertToInteractive('df-09a89aeb-da99-4367-bbff-61a5fde2a4da')\"\n",
              "              title=\"Convert this dataframe to an interactive table.\"\n",
              "              style=\"display:none;\">\n",
              "        \n",
              "  <svg xmlns=\"http://www.w3.org/2000/svg\" height=\"24px\"viewBox=\"0 0 24 24\"\n",
              "       width=\"24px\">\n",
              "    <path d=\"M0 0h24v24H0V0z\" fill=\"none\"/>\n",
              "    <path d=\"M18.56 5.44l.94 2.06.94-2.06 2.06-.94-2.06-.94-.94-2.06-.94 2.06-2.06.94zm-11 1L8.5 8.5l.94-2.06 2.06-.94-2.06-.94L8.5 2.5l-.94 2.06-2.06.94zm10 10l.94 2.06.94-2.06 2.06-.94-2.06-.94-.94-2.06-.94 2.06-2.06.94z\"/><path d=\"M17.41 7.96l-1.37-1.37c-.4-.4-.92-.59-1.43-.59-.52 0-1.04.2-1.43.59L10.3 9.45l-7.72 7.72c-.78.78-.78 2.05 0 2.83L4 21.41c.39.39.9.59 1.41.59.51 0 1.02-.2 1.41-.59l7.78-7.78 2.81-2.81c.8-.78.8-2.07 0-2.86zM5.41 20L4 18.59l7.72-7.72 1.47 1.35L5.41 20z\"/>\n",
              "  </svg>\n",
              "      </button>\n",
              "      \n",
              "  <style>\n",
              "    .colab-df-container {\n",
              "      display:flex;\n",
              "      flex-wrap:wrap;\n",
              "      gap: 12px;\n",
              "    }\n",
              "\n",
              "    .colab-df-convert {\n",
              "      background-color: #E8F0FE;\n",
              "      border: none;\n",
              "      border-radius: 50%;\n",
              "      cursor: pointer;\n",
              "      display: none;\n",
              "      fill: #1967D2;\n",
              "      height: 32px;\n",
              "      padding: 0 0 0 0;\n",
              "      width: 32px;\n",
              "    }\n",
              "\n",
              "    .colab-df-convert:hover {\n",
              "      background-color: #E2EBFA;\n",
              "      box-shadow: 0px 1px 2px rgba(60, 64, 67, 0.3), 0px 1px 3px 1px rgba(60, 64, 67, 0.15);\n",
              "      fill: #174EA6;\n",
              "    }\n",
              "\n",
              "    [theme=dark] .colab-df-convert {\n",
              "      background-color: #3B4455;\n",
              "      fill: #D2E3FC;\n",
              "    }\n",
              "\n",
              "    [theme=dark] .colab-df-convert:hover {\n",
              "      background-color: #434B5C;\n",
              "      box-shadow: 0px 1px 3px 1px rgba(0, 0, 0, 0.15);\n",
              "      filter: drop-shadow(0px 1px 2px rgba(0, 0, 0, 0.3));\n",
              "      fill: #FFFFFF;\n",
              "    }\n",
              "  </style>\n",
              "\n",
              "      <script>\n",
              "        const buttonEl =\n",
              "          document.querySelector('#df-09a89aeb-da99-4367-bbff-61a5fde2a4da button.colab-df-convert');\n",
              "        buttonEl.style.display =\n",
              "          google.colab.kernel.accessAllowed ? 'block' : 'none';\n",
              "\n",
              "        async function convertToInteractive(key) {\n",
              "          const element = document.querySelector('#df-09a89aeb-da99-4367-bbff-61a5fde2a4da');\n",
              "          const dataTable =\n",
              "            await google.colab.kernel.invokeFunction('convertToInteractive',\n",
              "                                                     [key], {});\n",
              "          if (!dataTable) return;\n",
              "\n",
              "          const docLinkHtml = 'Like what you see? Visit the ' +\n",
              "            '<a target=\"_blank\" href=https://colab.research.google.com/notebooks/data_table.ipynb>data table notebook</a>'\n",
              "            + ' to learn more about interactive tables.';\n",
              "          element.innerHTML = '';\n",
              "          dataTable['output_type'] = 'display_data';\n",
              "          await google.colab.output.renderOutput(dataTable, element);\n",
              "          const docLink = document.createElement('div');\n",
              "          docLink.innerHTML = docLinkHtml;\n",
              "          element.appendChild(docLink);\n",
              "        }\n",
              "      </script>\n",
              "    </div>\n",
              "  </div>\n",
              "  "
            ]
          },
          "metadata": {},
          "execution_count": 10
        }
      ]
    },
    {
      "cell_type": "code",
      "source": [
        "# Results.to_csv('LAResults.csv')\n",
        "# !cp LAResults.csv \"/content/drive/MyDrive/University of reading/MSC FINAL project/Data/Data Files/Results \""
      ],
      "metadata": {
        "id": "nfsBkbNNRYHQ"
      },
      "execution_count": null,
      "outputs": []
    },
    {
      "cell_type": "code",
      "source": [
        "import pickle\n",
        "filename = 'RF_model.sav'\n",
        "pickle.dump(reg, open(filename, 'wb'))"
      ],
      "metadata": {
        "id": "YV4E1AonzCOk"
      },
      "execution_count": null,
      "outputs": []
    }
  ]
}