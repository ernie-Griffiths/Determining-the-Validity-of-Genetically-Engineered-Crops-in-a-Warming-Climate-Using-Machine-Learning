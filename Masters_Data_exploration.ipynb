{
  "nbformat": 4,
  "nbformat_minor": 0,
  "metadata": {
    "colab": {
      "provenance": [],
      "mount_file_id": "16D-HrkDzeTzZIpWvECmsCH6ID0dXJ5-E",
      "authorship_tag": "ABX9TyOykleP8MwzqQdmRZVlMVIe",
      "include_colab_link": true
    },
    "kernelspec": {
      "name": "python3",
      "display_name": "Python 3"
    },
    "language_info": {
      "name": "python"
    }
  },
  "cells": [
    {
      "cell_type": "markdown",
      "metadata": {
        "id": "view-in-github",
        "colab_type": "text"
      },
      "source": [
        "<a href=\"https://colab.research.google.com/github/ernie-Griffiths/Determining-the-Validity-of-Genetically-Engineered-Crops-in-a-Warming-Climate-Using-Machine-Learning/blob/main/Masters_Data_exploration.ipynb\" target=\"_parent\"><img src=\"https://colab.research.google.com/assets/colab-badge.svg\" alt=\"Open In Colab\"/></a>"
      ]
    },
    {
      "cell_type": "markdown",
      "source": [
        "Imported Libaries that will be used within this data exploration section."
      ],
      "metadata": {
        "id": "xnYANKLgcj5z"
      }
    },
    {
      "cell_type": "code",
      "execution_count": null,
      "metadata": {
        "id": "kUygMT6IaoUC"
      },
      "outputs": [],
      "source": [
        "import pandas as pd\n",
        "import numpy as np"
      ]
    },
    {
      "cell_type": "markdown",
      "source": [
        "Changing of settings for veiwing"
      ],
      "metadata": {
        "id": "JFCHivf2hnq8"
      }
    },
    {
      "cell_type": "code",
      "source": [
        "pd.set_option('display.max_columns', None)\n",
        "pd.set_option(\"max_rows\", 100)"
      ],
      "metadata": {
        "id": "Mhb4ik51hm1y"
      },
      "execution_count": null,
      "outputs": []
    },
    {
      "cell_type": "markdown",
      "source": [
        "#Soil data Exploration."
      ],
      "metadata": {
        "id": "ozqbubRig4_t"
      }
    },
    {
      "cell_type": "code",
      "source": [
        "Soil_data = pd.read_csv(\"/content/drive/MyDrive/University of reading/MSC FINAL project/Data/Data Files/Soil_Data/g2f_2019_soil_data[1].csv\")"
      ],
      "metadata": {
        "id": "lYLie6ehcjds"
      },
      "execution_count": null,
      "outputs": []
    },
    {
      "cell_type": "code",
      "source": [
        "len(Soil_data.columns)"
      ],
      "metadata": {
        "colab": {
          "base_uri": "https://localhost:8080/"
        },
        "id": "k3H9cpd9EZd-",
        "outputId": "120eb449-4321-4fe0-ad05-6bfc947d7e97"
      },
      "execution_count": null,
      "outputs": [
        {
          "output_type": "execute_result",
          "data": {
            "text/plain": [
              "29"
            ]
          },
          "metadata": {},
          "execution_count": 64
        }
      ]
    },
    {
      "cell_type": "code",
      "source": [
        "Soil_data[[\"Location\",\"1:1 S Salts mmho/cm\",\"Potassium ppm K\",\"Nitrate-N ppm N\",\"% Silt\",\"1:1 Soil pH\",\"Texture\"]].sample(n=3)"
      ],
      "metadata": {
        "colab": {
          "base_uri": "https://localhost:8080/",
          "height": 143
        },
        "id": "iMfRtCmD9IiY",
        "outputId": "93ee2372-39d9-411f-8b35-27d3b6804467"
      },
      "execution_count": null,
      "outputs": [
        {
          "output_type": "execute_result",
          "data": {
            "text/plain": [
              "   Location  1:1 S Salts mmho/cm  Potassium ppm K  Nitrate-N ppm N  % Silt  \\\n",
              "0      DEH1                 0.13              125             28.6       9   \n",
              "18     OHH1                 0.41              163             30.9      32   \n",
              "15     NYH1                 0.20               65             13.3      24   \n",
              "\n",
              "    1:1 Soil pH          Texture  \n",
              "0           6.6       Loamy Sand  \n",
              "18          6.6             Clay  \n",
              "15          7.7  Sandy Clay Loam  "
            ],
            "text/html": [
              "\n",
              "  <div id=\"df-cf64a074-b1ad-4922-835b-a3ac97af33d3\">\n",
              "    <div class=\"colab-df-container\">\n",
              "      <div>\n",
              "<style scoped>\n",
              "    .dataframe tbody tr th:only-of-type {\n",
              "        vertical-align: middle;\n",
              "    }\n",
              "\n",
              "    .dataframe tbody tr th {\n",
              "        vertical-align: top;\n",
              "    }\n",
              "\n",
              "    .dataframe thead th {\n",
              "        text-align: right;\n",
              "    }\n",
              "</style>\n",
              "<table border=\"1\" class=\"dataframe\">\n",
              "  <thead>\n",
              "    <tr style=\"text-align: right;\">\n",
              "      <th></th>\n",
              "      <th>Location</th>\n",
              "      <th>1:1 S Salts mmho/cm</th>\n",
              "      <th>Potassium ppm K</th>\n",
              "      <th>Nitrate-N ppm N</th>\n",
              "      <th>% Silt</th>\n",
              "      <th>1:1 Soil pH</th>\n",
              "      <th>Texture</th>\n",
              "    </tr>\n",
              "  </thead>\n",
              "  <tbody>\n",
              "    <tr>\n",
              "      <th>0</th>\n",
              "      <td>DEH1</td>\n",
              "      <td>0.13</td>\n",
              "      <td>125</td>\n",
              "      <td>28.6</td>\n",
              "      <td>9</td>\n",
              "      <td>6.6</td>\n",
              "      <td>Loamy Sand</td>\n",
              "    </tr>\n",
              "    <tr>\n",
              "      <th>18</th>\n",
              "      <td>OHH1</td>\n",
              "      <td>0.41</td>\n",
              "      <td>163</td>\n",
              "      <td>30.9</td>\n",
              "      <td>32</td>\n",
              "      <td>6.6</td>\n",
              "      <td>Clay</td>\n",
              "    </tr>\n",
              "    <tr>\n",
              "      <th>15</th>\n",
              "      <td>NYH1</td>\n",
              "      <td>0.20</td>\n",
              "      <td>65</td>\n",
              "      <td>13.3</td>\n",
              "      <td>24</td>\n",
              "      <td>7.7</td>\n",
              "      <td>Sandy Clay Loam</td>\n",
              "    </tr>\n",
              "  </tbody>\n",
              "</table>\n",
              "</div>\n",
              "      <button class=\"colab-df-convert\" onclick=\"convertToInteractive('df-cf64a074-b1ad-4922-835b-a3ac97af33d3')\"\n",
              "              title=\"Convert this dataframe to an interactive table.\"\n",
              "              style=\"display:none;\">\n",
              "        \n",
              "  <svg xmlns=\"http://www.w3.org/2000/svg\" height=\"24px\"viewBox=\"0 0 24 24\"\n",
              "       width=\"24px\">\n",
              "    <path d=\"M0 0h24v24H0V0z\" fill=\"none\"/>\n",
              "    <path d=\"M18.56 5.44l.94 2.06.94-2.06 2.06-.94-2.06-.94-.94-2.06-.94 2.06-2.06.94zm-11 1L8.5 8.5l.94-2.06 2.06-.94-2.06-.94L8.5 2.5l-.94 2.06-2.06.94zm10 10l.94 2.06.94-2.06 2.06-.94-2.06-.94-.94-2.06-.94 2.06-2.06.94z\"/><path d=\"M17.41 7.96l-1.37-1.37c-.4-.4-.92-.59-1.43-.59-.52 0-1.04.2-1.43.59L10.3 9.45l-7.72 7.72c-.78.78-.78 2.05 0 2.83L4 21.41c.39.39.9.59 1.41.59.51 0 1.02-.2 1.41-.59l7.78-7.78 2.81-2.81c.8-.78.8-2.07 0-2.86zM5.41 20L4 18.59l7.72-7.72 1.47 1.35L5.41 20z\"/>\n",
              "  </svg>\n",
              "      </button>\n",
              "      \n",
              "  <style>\n",
              "    .colab-df-container {\n",
              "      display:flex;\n",
              "      flex-wrap:wrap;\n",
              "      gap: 12px;\n",
              "    }\n",
              "\n",
              "    .colab-df-convert {\n",
              "      background-color: #E8F0FE;\n",
              "      border: none;\n",
              "      border-radius: 50%;\n",
              "      cursor: pointer;\n",
              "      display: none;\n",
              "      fill: #1967D2;\n",
              "      height: 32px;\n",
              "      padding: 0 0 0 0;\n",
              "      width: 32px;\n",
              "    }\n",
              "\n",
              "    .colab-df-convert:hover {\n",
              "      background-color: #E2EBFA;\n",
              "      box-shadow: 0px 1px 2px rgba(60, 64, 67, 0.3), 0px 1px 3px 1px rgba(60, 64, 67, 0.15);\n",
              "      fill: #174EA6;\n",
              "    }\n",
              "\n",
              "    [theme=dark] .colab-df-convert {\n",
              "      background-color: #3B4455;\n",
              "      fill: #D2E3FC;\n",
              "    }\n",
              "\n",
              "    [theme=dark] .colab-df-convert:hover {\n",
              "      background-color: #434B5C;\n",
              "      box-shadow: 0px 1px 3px 1px rgba(0, 0, 0, 0.15);\n",
              "      filter: drop-shadow(0px 1px 2px rgba(0, 0, 0, 0.3));\n",
              "      fill: #FFFFFF;\n",
              "    }\n",
              "  </style>\n",
              "\n",
              "      <script>\n",
              "        const buttonEl =\n",
              "          document.querySelector('#df-cf64a074-b1ad-4922-835b-a3ac97af33d3 button.colab-df-convert');\n",
              "        buttonEl.style.display =\n",
              "          google.colab.kernel.accessAllowed ? 'block' : 'none';\n",
              "\n",
              "        async function convertToInteractive(key) {\n",
              "          const element = document.querySelector('#df-cf64a074-b1ad-4922-835b-a3ac97af33d3');\n",
              "          const dataTable =\n",
              "            await google.colab.kernel.invokeFunction('convertToInteractive',\n",
              "                                                     [key], {});\n",
              "          if (!dataTable) return;\n",
              "\n",
              "          const docLinkHtml = 'Like what you see? Visit the ' +\n",
              "            '<a target=\"_blank\" href=https://colab.research.google.com/notebooks/data_table.ipynb>data table notebook</a>'\n",
              "            + ' to learn more about interactive tables.';\n",
              "          element.innerHTML = '';\n",
              "          dataTable['output_type'] = 'display_data';\n",
              "          await google.colab.output.renderOutput(dataTable, element);\n",
              "          const docLink = document.createElement('div');\n",
              "          docLink.innerHTML = docLinkHtml;\n",
              "          element.appendChild(docLink);\n",
              "        }\n",
              "      </script>\n",
              "    </div>\n",
              "  </div>\n",
              "  "
            ]
          },
          "metadata": {},
          "execution_count": 59
        }
      ]
    },
    {
      "cell_type": "code",
      "source": [
        "print(Soil_data[\"Location\"].unique())"
      ],
      "metadata": {
        "colab": {
          "base_uri": "https://localhost:8080/"
        },
        "id": "mHoNpEyyhJU1",
        "outputId": "bf9f1882-29a8-498e-8301-3f9bcdf1dc80"
      },
      "execution_count": null,
      "outputs": [
        {
          "output_type": "stream",
          "name": "stdout",
          "text": [
            "['DEH1' 'GAH1' 'GAH2' 'GEH1' 'GEH2' 'IAH1' 'IAH2 ' 'IAH3 ' 'IAH4 ' 'INH1'\n",
            " 'MIH1' 'MNH1' 'MOH1 ' 'NEH1' 'NEH2' 'NYH1' 'NYH2' 'NYH3' 'OHH1' 'SCH1'\n",
            " 'TXH1' 'TXH2' 'TXH3' 'W1H1' 'W1H2']\n"
          ]
        }
      ]
    },
    {
      "cell_type": "code",
      "source": [
        "print(Soil_data.columns)"
      ],
      "metadata": {
        "colab": {
          "base_uri": "https://localhost:8080/"
        },
        "id": "nov6NRnFg4WO",
        "outputId": "aacd82e0-442e-4df2-f445-d7d29aa76e20"
      },
      "execution_count": null,
      "outputs": [
        {
          "output_type": "stream",
          "name": "stdout",
          "text": [
            "Index(['Grower', 'Location', 'Date Received', 'Date Reported', 'E Depth',\n",
            "       '1:1 Soil pH', 'WDRF Buffer pH', '1:1 S Salts mmho/cm', 'Texture No',\n",
            "       'Organic Matter LOI %', 'Nitrate-N ppm N', 'lbs N/A', 'Potassium ppm K',\n",
            "       'Sulfate-S ppm S', 'Calcium ppm Ca', 'Magnesium ppm Mg',\n",
            "       'Sodium ppm Na', 'CEC/Sum of Cations me/100g', '%H Sat', '%K Sat',\n",
            "       '%Ca Sat', '%Mg Sat', '%Na Sat', 'Mehlich P-III ppm P', '% Sand',\n",
            "       '% Silt', '% Clay', 'Texture', 'Comments'],\n",
            "      dtype='object')\n"
          ]
        }
      ]
    },
    {
      "cell_type": "markdown",
      "source": [
        "#Weather data exploration."
      ],
      "metadata": {
        "id": "RB_LT5gPg8Zm"
      }
    },
    {
      "cell_type": "code",
      "source": [
        "Weather_data = pd.read_csv(\"/content/drive/MyDrive/University of reading/MSC FINAL project/Data/Data Files/Weather_data/2019_weather_cleaned[1].csv\", low_memory = False)"
      ],
      "metadata": {
        "id": "VlIuKnrbea2h"
      },
      "execution_count": null,
      "outputs": []
    },
    {
      "cell_type": "code",
      "source": [
        "len(Weather_data.columns)"
      ],
      "metadata": {
        "colab": {
          "base_uri": "https://localhost:8080/"
        },
        "id": "dPWWPrOqD_u-",
        "outputId": "34895ad9-093e-4179-d323-d798b11e2058"
      },
      "execution_count": null,
      "outputs": [
        {
          "output_type": "execute_result",
          "data": {
            "text/plain": [
              "23"
            ]
          },
          "metadata": {},
          "execution_count": 66
        }
      ]
    },
    {
      "cell_type": "code",
      "source": [
        "Weather_data[[\"Field Location\",\"Temperature [C]\",\"Relative Humidity [%]\",\"Soil Temperature [C]\",\"Soil Moisture [%VWC]\"]].sample(n=3)"
      ],
      "metadata": {
        "colab": {
          "base_uri": "https://localhost:8080/",
          "height": 143
        },
        "id": "g467_I_fh-zO",
        "outputId": "b85491f9-5ac4-47f2-c3a9-c48673342fb6"
      },
      "execution_count": null,
      "outputs": [
        {
          "output_type": "execute_result",
          "data": {
            "text/plain": [
              "       Field Location  Temperature [C]  Relative Humidity [%]  \\\n",
              "22196            GAH2            30.61                  100.0   \n",
              "82203            ILH1            14.83                   87.7   \n",
              "112135           MOH1            25.22                   75.1   \n",
              "\n",
              "        Soil Temperature [C]  Soil Moisture [%VWC]  \n",
              "22196                  23.22                   3.2  \n",
              "82203                  20.56                  25.6  \n",
              "112135                 23.33                  37.0  "
            ],
            "text/html": [
              "\n",
              "  <div id=\"df-3daec2ce-bfc7-40bf-a664-cb3f4055f342\">\n",
              "    <div class=\"colab-df-container\">\n",
              "      <div>\n",
              "<style scoped>\n",
              "    .dataframe tbody tr th:only-of-type {\n",
              "        vertical-align: middle;\n",
              "    }\n",
              "\n",
              "    .dataframe tbody tr th {\n",
              "        vertical-align: top;\n",
              "    }\n",
              "\n",
              "    .dataframe thead th {\n",
              "        text-align: right;\n",
              "    }\n",
              "</style>\n",
              "<table border=\"1\" class=\"dataframe\">\n",
              "  <thead>\n",
              "    <tr style=\"text-align: right;\">\n",
              "      <th></th>\n",
              "      <th>Field Location</th>\n",
              "      <th>Temperature [C]</th>\n",
              "      <th>Relative Humidity [%]</th>\n",
              "      <th>Soil Temperature [C]</th>\n",
              "      <th>Soil Moisture [%VWC]</th>\n",
              "    </tr>\n",
              "  </thead>\n",
              "  <tbody>\n",
              "    <tr>\n",
              "      <th>22196</th>\n",
              "      <td>GAH2</td>\n",
              "      <td>30.61</td>\n",
              "      <td>100.0</td>\n",
              "      <td>23.22</td>\n",
              "      <td>3.2</td>\n",
              "    </tr>\n",
              "    <tr>\n",
              "      <th>82203</th>\n",
              "      <td>ILH1</td>\n",
              "      <td>14.83</td>\n",
              "      <td>87.7</td>\n",
              "      <td>20.56</td>\n",
              "      <td>25.6</td>\n",
              "    </tr>\n",
              "    <tr>\n",
              "      <th>112135</th>\n",
              "      <td>MOH1</td>\n",
              "      <td>25.22</td>\n",
              "      <td>75.1</td>\n",
              "      <td>23.33</td>\n",
              "      <td>37.0</td>\n",
              "    </tr>\n",
              "  </tbody>\n",
              "</table>\n",
              "</div>\n",
              "      <button class=\"colab-df-convert\" onclick=\"convertToInteractive('df-3daec2ce-bfc7-40bf-a664-cb3f4055f342')\"\n",
              "              title=\"Convert this dataframe to an interactive table.\"\n",
              "              style=\"display:none;\">\n",
              "        \n",
              "  <svg xmlns=\"http://www.w3.org/2000/svg\" height=\"24px\"viewBox=\"0 0 24 24\"\n",
              "       width=\"24px\">\n",
              "    <path d=\"M0 0h24v24H0V0z\" fill=\"none\"/>\n",
              "    <path d=\"M18.56 5.44l.94 2.06.94-2.06 2.06-.94-2.06-.94-.94-2.06-.94 2.06-2.06.94zm-11 1L8.5 8.5l.94-2.06 2.06-.94-2.06-.94L8.5 2.5l-.94 2.06-2.06.94zm10 10l.94 2.06.94-2.06 2.06-.94-2.06-.94-.94-2.06-.94 2.06-2.06.94z\"/><path d=\"M17.41 7.96l-1.37-1.37c-.4-.4-.92-.59-1.43-.59-.52 0-1.04.2-1.43.59L10.3 9.45l-7.72 7.72c-.78.78-.78 2.05 0 2.83L4 21.41c.39.39.9.59 1.41.59.51 0 1.02-.2 1.41-.59l7.78-7.78 2.81-2.81c.8-.78.8-2.07 0-2.86zM5.41 20L4 18.59l7.72-7.72 1.47 1.35L5.41 20z\"/>\n",
              "  </svg>\n",
              "      </button>\n",
              "      \n",
              "  <style>\n",
              "    .colab-df-container {\n",
              "      display:flex;\n",
              "      flex-wrap:wrap;\n",
              "      gap: 12px;\n",
              "    }\n",
              "\n",
              "    .colab-df-convert {\n",
              "      background-color: #E8F0FE;\n",
              "      border: none;\n",
              "      border-radius: 50%;\n",
              "      cursor: pointer;\n",
              "      display: none;\n",
              "      fill: #1967D2;\n",
              "      height: 32px;\n",
              "      padding: 0 0 0 0;\n",
              "      width: 32px;\n",
              "    }\n",
              "\n",
              "    .colab-df-convert:hover {\n",
              "      background-color: #E2EBFA;\n",
              "      box-shadow: 0px 1px 2px rgba(60, 64, 67, 0.3), 0px 1px 3px 1px rgba(60, 64, 67, 0.15);\n",
              "      fill: #174EA6;\n",
              "    }\n",
              "\n",
              "    [theme=dark] .colab-df-convert {\n",
              "      background-color: #3B4455;\n",
              "      fill: #D2E3FC;\n",
              "    }\n",
              "\n",
              "    [theme=dark] .colab-df-convert:hover {\n",
              "      background-color: #434B5C;\n",
              "      box-shadow: 0px 1px 3px 1px rgba(0, 0, 0, 0.15);\n",
              "      filter: drop-shadow(0px 1px 2px rgba(0, 0, 0, 0.3));\n",
              "      fill: #FFFFFF;\n",
              "    }\n",
              "  </style>\n",
              "\n",
              "      <script>\n",
              "        const buttonEl =\n",
              "          document.querySelector('#df-3daec2ce-bfc7-40bf-a664-cb3f4055f342 button.colab-df-convert');\n",
              "        buttonEl.style.display =\n",
              "          google.colab.kernel.accessAllowed ? 'block' : 'none';\n",
              "\n",
              "        async function convertToInteractive(key) {\n",
              "          const element = document.querySelector('#df-3daec2ce-bfc7-40bf-a664-cb3f4055f342');\n",
              "          const dataTable =\n",
              "            await google.colab.kernel.invokeFunction('convertToInteractive',\n",
              "                                                     [key], {});\n",
              "          if (!dataTable) return;\n",
              "\n",
              "          const docLinkHtml = 'Like what you see? Visit the ' +\n",
              "            '<a target=\"_blank\" href=https://colab.research.google.com/notebooks/data_table.ipynb>data table notebook</a>'\n",
              "            + ' to learn more about interactive tables.';\n",
              "          element.innerHTML = '';\n",
              "          dataTable['output_type'] = 'display_data';\n",
              "          await google.colab.output.renderOutput(dataTable, element);\n",
              "          const docLink = document.createElement('div');\n",
              "          docLink.innerHTML = docLinkHtml;\n",
              "          element.appendChild(docLink);\n",
              "        }\n",
              "      </script>\n",
              "    </div>\n",
              "  </div>\n",
              "  "
            ]
          },
          "metadata": {},
          "execution_count": 46
        }
      ]
    },
    {
      "cell_type": "code",
      "source": [
        "print(Weather_data[\"Field Location\"].unique())\n",
        "print(Weather_data[\"Station ID\"].unique())"
      ],
      "metadata": {
        "colab": {
          "base_uri": "https://localhost:8080/"
        },
        "id": "9iSt9G6-e3Xq",
        "outputId": "f763ffb1-806b-45bd-e06b-f40962f629d4"
      },
      "execution_count": null,
      "outputs": [
        {
          "output_type": "stream",
          "name": "stdout",
          "text": [
            "['COH1' 'DEH1' 'GAH1' 'GAH2' 'GEH1' 'IAH1' 'IAH2' 'IAH3' 'IAH4' 'ILH1'\n",
            " 'INH1' 'MIH1' 'MNH1' 'MOH1' 'NCH1' 'NEH1' 'NEH2' 'NYH2' 'NYH3' 'OHH1'\n",
            " 'ONH2' 'SCH1' 'TXH1' 'TXH2' 'TXH4' 'WIH1' 'WIH2']\n",
            "[ 8658  9079  8427  8631  9085  9080 11859  9082  8653  8657  9078  8650\n",
            "  8645  8659 10801 18037  9086  9087 10800  8652  8655  8428 14790  8630\n",
            "  8648]\n"
          ]
        }
      ]
    },
    {
      "cell_type": "code",
      "source": [
        "print(Weather_data.columns)"
      ],
      "metadata": {
        "colab": {
          "base_uri": "https://localhost:8080/"
        },
        "id": "7l6AsaZMkcWQ",
        "outputId": "3a9cebc4-1d70-48b9-f6db-27099e62c4d3"
      },
      "execution_count": null,
      "outputs": [
        {
          "output_type": "stream",
          "name": "stdout",
          "text": [
            "Index(['Field Location', 'Station ID', 'NWS Network', 'NWS Station',\n",
            "       'Date_key', 'Month', 'Day', 'Year', 'Time', 'Temperature [C]',\n",
            "       'Dew Point [C]', 'Relative Humidity [%]', 'Solar Radiation [W/m2]',\n",
            "       'Rainfall [mm]', 'Wind Speed [m/s]', 'Wind Direction [degrees]',\n",
            "       'Wind Gust [m/s]', 'Soil Temperature [C]', 'Soil Moisture [%VWC]',\n",
            "       'Soil EC [mS/cm]', 'UV Light [uM/m2s]', 'PAR [uM/m2s]', 'CO2 [ppm]'],\n",
            "      dtype='object')\n"
          ]
        }
      ]
    },
    {
      "cell_type": "markdown",
      "source": [
        "#Phenotype data Exploration."
      ],
      "metadata": {
        "id": "rLsu0nLshDMU"
      }
    },
    {
      "cell_type": "code",
      "source": [
        "Phenotype_data = pd.read_csv(\"/content/drive/MyDrive/University of reading/MSC FINAL project/Data/Data Files/phenotype_data/g2f_2019_phenotypic_clean_data[1].csv\",low_memory = False)"
      ],
      "metadata": {
        "id": "2p3ZqviKecO-"
      },
      "execution_count": null,
      "outputs": []
    },
    {
      "cell_type": "code",
      "source": [
        "len(Phenotype_data.columns)"
      ],
      "metadata": {
        "colab": {
          "base_uri": "https://localhost:8080/"
        },
        "id": "rSJEXzP1Ddno",
        "outputId": "f2a330b6-90d8-4a0b-8a75-a33f6d6bf234"
      },
      "execution_count": null,
      "outputs": [
        {
          "output_type": "execute_result",
          "data": {
            "text/plain": [
              "44"
            ]
          },
          "metadata": {},
          "execution_count": 67
        }
      ]
    },
    {
      "cell_type": "code",
      "source": [
        "Phenotype_data[[\"Family\",\"Pedigree\",\"Plant Height [cm]\",\"Ear Height [cm]\",\"Grain Moisture [%]\"]].sample(n=3)"
      ],
      "metadata": {
        "id": "CL91DypMV5FU",
        "outputId": "8f2aa015-5c76-41b7-c352-cf1472e8f85e",
        "colab": {
          "base_uri": "https://localhost:8080/",
          "height": 143
        }
      },
      "execution_count": null,
      "outputs": [
        {
          "output_type": "execute_result",
          "data": {
            "text/plain": [
              "              Family               Pedigree  Plant Height [cm]  \\\n",
              "6229      MO44_PHW65  MO44_PHW65_0167/LH195              253.0   \n",
              "4885       PHW65_MOG   PHW65_MOG_0271/LH195              232.0   \n",
              "17504  Yellow Stripe           2369/LH123HT              221.0   \n",
              "\n",
              "       Ear Height [cm]  Grain Moisture [%]  \n",
              "6229             132.0               27.70  \n",
              "4885             110.0               24.90  \n",
              "17504             71.0               10.92  "
            ],
            "text/html": [
              "\n",
              "  <div id=\"df-ae88fbac-2da8-4d42-bd6c-1b23cda27c53\">\n",
              "    <div class=\"colab-df-container\">\n",
              "      <div>\n",
              "<style scoped>\n",
              "    .dataframe tbody tr th:only-of-type {\n",
              "        vertical-align: middle;\n",
              "    }\n",
              "\n",
              "    .dataframe tbody tr th {\n",
              "        vertical-align: top;\n",
              "    }\n",
              "\n",
              "    .dataframe thead th {\n",
              "        text-align: right;\n",
              "    }\n",
              "</style>\n",
              "<table border=\"1\" class=\"dataframe\">\n",
              "  <thead>\n",
              "    <tr style=\"text-align: right;\">\n",
              "      <th></th>\n",
              "      <th>Family</th>\n",
              "      <th>Pedigree</th>\n",
              "      <th>Plant Height [cm]</th>\n",
              "      <th>Ear Height [cm]</th>\n",
              "      <th>Grain Moisture [%]</th>\n",
              "    </tr>\n",
              "  </thead>\n",
              "  <tbody>\n",
              "    <tr>\n",
              "      <th>6229</th>\n",
              "      <td>MO44_PHW65</td>\n",
              "      <td>MO44_PHW65_0167/LH195</td>\n",
              "      <td>253.0</td>\n",
              "      <td>132.0</td>\n",
              "      <td>27.70</td>\n",
              "    </tr>\n",
              "    <tr>\n",
              "      <th>4885</th>\n",
              "      <td>PHW65_MOG</td>\n",
              "      <td>PHW65_MOG_0271/LH195</td>\n",
              "      <td>232.0</td>\n",
              "      <td>110.0</td>\n",
              "      <td>24.90</td>\n",
              "    </tr>\n",
              "    <tr>\n",
              "      <th>17504</th>\n",
              "      <td>Yellow Stripe</td>\n",
              "      <td>2369/LH123HT</td>\n",
              "      <td>221.0</td>\n",
              "      <td>71.0</td>\n",
              "      <td>10.92</td>\n",
              "    </tr>\n",
              "  </tbody>\n",
              "</table>\n",
              "</div>\n",
              "      <button class=\"colab-df-convert\" onclick=\"convertToInteractive('df-ae88fbac-2da8-4d42-bd6c-1b23cda27c53')\"\n",
              "              title=\"Convert this dataframe to an interactive table.\"\n",
              "              style=\"display:none;\">\n",
              "        \n",
              "  <svg xmlns=\"http://www.w3.org/2000/svg\" height=\"24px\"viewBox=\"0 0 24 24\"\n",
              "       width=\"24px\">\n",
              "    <path d=\"M0 0h24v24H0V0z\" fill=\"none\"/>\n",
              "    <path d=\"M18.56 5.44l.94 2.06.94-2.06 2.06-.94-2.06-.94-.94-2.06-.94 2.06-2.06.94zm-11 1L8.5 8.5l.94-2.06 2.06-.94-2.06-.94L8.5 2.5l-.94 2.06-2.06.94zm10 10l.94 2.06.94-2.06 2.06-.94-2.06-.94-.94-2.06-.94 2.06-2.06.94z\"/><path d=\"M17.41 7.96l-1.37-1.37c-.4-.4-.92-.59-1.43-.59-.52 0-1.04.2-1.43.59L10.3 9.45l-7.72 7.72c-.78.78-.78 2.05 0 2.83L4 21.41c.39.39.9.59 1.41.59.51 0 1.02-.2 1.41-.59l7.78-7.78 2.81-2.81c.8-.78.8-2.07 0-2.86zM5.41 20L4 18.59l7.72-7.72 1.47 1.35L5.41 20z\"/>\n",
              "  </svg>\n",
              "      </button>\n",
              "      \n",
              "  <style>\n",
              "    .colab-df-container {\n",
              "      display:flex;\n",
              "      flex-wrap:wrap;\n",
              "      gap: 12px;\n",
              "    }\n",
              "\n",
              "    .colab-df-convert {\n",
              "      background-color: #E8F0FE;\n",
              "      border: none;\n",
              "      border-radius: 50%;\n",
              "      cursor: pointer;\n",
              "      display: none;\n",
              "      fill: #1967D2;\n",
              "      height: 32px;\n",
              "      padding: 0 0 0 0;\n",
              "      width: 32px;\n",
              "    }\n",
              "\n",
              "    .colab-df-convert:hover {\n",
              "      background-color: #E2EBFA;\n",
              "      box-shadow: 0px 1px 2px rgba(60, 64, 67, 0.3), 0px 1px 3px 1px rgba(60, 64, 67, 0.15);\n",
              "      fill: #174EA6;\n",
              "    }\n",
              "\n",
              "    [theme=dark] .colab-df-convert {\n",
              "      background-color: #3B4455;\n",
              "      fill: #D2E3FC;\n",
              "    }\n",
              "\n",
              "    [theme=dark] .colab-df-convert:hover {\n",
              "      background-color: #434B5C;\n",
              "      box-shadow: 0px 1px 3px 1px rgba(0, 0, 0, 0.15);\n",
              "      filter: drop-shadow(0px 1px 2px rgba(0, 0, 0, 0.3));\n",
              "      fill: #FFFFFF;\n",
              "    }\n",
              "  </style>\n",
              "\n",
              "      <script>\n",
              "        const buttonEl =\n",
              "          document.querySelector('#df-ae88fbac-2da8-4d42-bd6c-1b23cda27c53 button.colab-df-convert');\n",
              "        buttonEl.style.display =\n",
              "          google.colab.kernel.accessAllowed ? 'block' : 'none';\n",
              "\n",
              "        async function convertToInteractive(key) {\n",
              "          const element = document.querySelector('#df-ae88fbac-2da8-4d42-bd6c-1b23cda27c53');\n",
              "          const dataTable =\n",
              "            await google.colab.kernel.invokeFunction('convertToInteractive',\n",
              "                                                     [key], {});\n",
              "          if (!dataTable) return;\n",
              "\n",
              "          const docLinkHtml = 'Like what you see? Visit the ' +\n",
              "            '<a target=\"_blank\" href=https://colab.research.google.com/notebooks/data_table.ipynb>data table notebook</a>'\n",
              "            + ' to learn more about interactive tables.';\n",
              "          element.innerHTML = '';\n",
              "          dataTable['output_type'] = 'display_data';\n",
              "          await google.colab.output.renderOutput(dataTable, element);\n",
              "          const docLink = document.createElement('div');\n",
              "          docLink.innerHTML = docLinkHtml;\n",
              "          element.appendChild(docLink);\n",
              "        }\n",
              "      </script>\n",
              "    </div>\n",
              "  </div>\n",
              "  "
            ]
          },
          "metadata": {},
          "execution_count": 32
        }
      ]
    },
    {
      "cell_type": "code",
      "source": [
        "print(Phenotype_data[\"Field-Location\"].unique())\n",
        "#note Within the field locations there are some locations that are not present in both weather and soil these can be extrapolated."
      ],
      "metadata": {
        "colab": {
          "base_uri": "https://localhost:8080/"
        },
        "id": "FL6w7B8PgkWs",
        "outputId": "5d33e5fe-c8d1-439f-af02-c25ea2a6a9b9"
      },
      "execution_count": null,
      "outputs": [
        {
          "output_type": "stream",
          "name": "stdout",
          "text": [
            "['COH1' 'DEH1' 'GAH1' 'GAH2' 'GEH1' 'IAH1' 'IAH2' 'IAH3' 'IAH4' 'ILH1'\n",
            " 'INH1' 'MIH1' 'MNH1' 'MOH1' 'NCH1' 'NEH1' 'NEH2' 'NYH1' 'NYH2' 'NYH3'\n",
            " 'OHH1' 'ONH2' 'SCH1' 'TXH1' 'TXH2' 'TXH3' 'TXH4' 'WIH1' 'WIH2']\n"
          ]
        }
      ]
    },
    {
      "cell_type": "code",
      "source": [
        "COH1dataset = Phenotype_data[Phenotype_data['Field-Location'] == 'COH1']"
      ],
      "metadata": {
        "id": "gAXdXBQ-3d5N"
      },
      "execution_count": null,
      "outputs": []
    },
    {
      "cell_type": "code",
      "source": [
        "Phenotype_data['Date Plot Planted [MM/DD/YY]'].unique()"
      ],
      "metadata": {
        "colab": {
          "base_uri": "https://localhost:8080/"
        },
        "id": "boOCr-kg3tXM",
        "outputId": "12c4d320-0f1b-458f-d4d3-da57ad90b28e"
      },
      "execution_count": null,
      "outputs": [
        {
          "output_type": "execute_result",
          "data": {
            "text/plain": [
              "array(['6/10/19', '5/9/2019', '3/28/19', '4/12/19', nan, '5/14/19',\n",
              "       '6/6/19', '4/26/19', '5/6/19', '6/3/19', '5/21/19', '6/5/19',\n",
              "       '5/27/19', '5/16/19', '5/13/19', '5/17/19', '6/8/19', '5/23/19',\n",
              "       '6/7/19', '6/19/19', '5/2/19', '3/20/19', '5/12/19'], dtype=object)"
            ]
          },
          "metadata": {},
          "execution_count": 15
        }
      ]
    },
    {
      "cell_type": "code",
      "source": [
        "print(Phenotype_data.columns)"
      ],
      "metadata": {
        "colab": {
          "base_uri": "https://localhost:8080/"
        },
        "id": "AMELVwqekk00",
        "outputId": "c3c9a74d-cec4-4a36-e613-d3ebd9f5d5a3"
      },
      "execution_count": null,
      "outputs": [
        {
          "output_type": "stream",
          "name": "stdout",
          "text": [
            "Index(['Year', 'Field-Location', 'State', 'City',\n",
            "       'Plot length (center-center in feet)', 'Plot area (ft2)',\n",
            "       'Alley length (in inches)', 'Row spacing (in inches)', 'Rows per plot',\n",
            "       'Kernels/Packet', '# Seed per plot', 'Source', 'Pedigree', 'Family',\n",
            "       'Tester', 'Replicate', 'Block', 'Plot', 'Range', 'Pass',\n",
            "       'Date Plot Planted [MM/DD/YY]', 'Date Plot Harvested [MM/DD/YY]',\n",
            "       'Anthesis [MM/DD/YY]', 'Silking [MM/DD/YY]', 'Anthesis [days]',\n",
            "       'Silking [days]', 'Plant Height [cm]', 'Ear Height [cm]',\n",
            "       'Stand Count [# of plants]', 'Root Lodging [# of plants]',\n",
            "       'Stalk Lodging [# of plants]', 'Grain Moisture [%]',\n",
            "       'Test Weight [lbs]', 'Plot Weight [lbs]', 'Grain Yield (bu/A)',\n",
            "       'Plot Discarded [enter 'yes' or blank]', 'Comments',\n",
            "       'Filler [enter 'filler' or blank]', 'Possible subs', 'Confirmed subs',\n",
            "       'Single Plant Biomass in July(g)', 'Single Plant Biomass in August(g)',\n",
            "       'RootPullingForce(kgf)_July', 'RootPullingForce(kgf)_August'],\n",
            "      dtype='object')\n"
          ]
        }
      ]
    },
    {
      "cell_type": "code",
      "source": [
        "print(Phenotype_data[\"Grain Yield (bu/A)\"].isnull().sum())\n",
        "print(len(Phenotype_data[\"Grain Yield (bu/A)\"]))\n",
        "Phenotype_data[Phenotype_data[\"Grain Yield (bu/A)\"].notnull()]\n",
        "Phenotype_data[Phenotype_data[\"Grain Yield (bu/A)\"].notnull()].describe()\n"
      ],
      "metadata": {
        "colab": {
          "base_uri": "https://localhost:8080/",
          "height": 468
        },
        "id": "NigmtHHnrpbk",
        "outputId": "df5ec80d-dcbc-47c0-e428-dc87e234d1d8"
      },
      "execution_count": null,
      "outputs": [
        {
          "output_type": "stream",
          "name": "stdout",
          "text": [
            "1030\n",
            "20952\n"
          ]
        },
        {
          "output_type": "execute_result",
          "data": {
            "text/plain": [
              "          Year  Plot length (center-center in feet)  Plot area (ft2)  \\\n",
              "count  19922.0                         19922.000000     19922.000000   \n",
              "mean    2019.0                            19.311213        83.073785   \n",
              "std        0.0                             2.299331        12.221595   \n",
              "min     2019.0                            15.000000        62.500000   \n",
              "25%     2019.0                            17.250000        72.500000   \n",
              "50%     2019.0                            18.500000        84.000000   \n",
              "75%     2019.0                            22.000000        95.000000   \n",
              "max     2019.0                            25.000000       106.666667   \n",
              "\n",
              "       Alley length (in inches)  Row spacing (in inches)  Rows per plot  \\\n",
              "count              19922.000000             19922.000000        19922.0   \n",
              "mean                  36.592310                30.737577            2.0   \n",
              "std                   11.434061                 2.401057            0.0   \n",
              "min                   24.000000                30.000000            2.0   \n",
              "25%                   30.000000                30.000000            2.0   \n",
              "50%                   33.000000                30.000000            2.0   \n",
              "75%                   42.000000                30.000000            2.0   \n",
              "max                   72.000000                40.000000            2.0   \n",
              "\n",
              "       Kernels/Packet  # Seed per plot     Replicate         Block  \\\n",
              "count    19435.000000     19922.000000  19922.000000  19922.000000   \n",
              "mean        69.612092        82.440618      1.494729      4.293244   \n",
              "std         20.857641         9.474232      0.499985      2.836038   \n",
              "min         35.000000        50.000000      1.000000      1.000000   \n",
              "25%         47.000000        80.000000      1.000000      2.000000   \n",
              "50%         80.000000        80.000000      1.000000      4.000000   \n",
              "75%         90.000000        90.000000      2.000000      6.000000   \n",
              "max         90.000000       100.000000      2.000000     12.000000   \n",
              "\n",
              "               Plot         Range          Pass  Anthesis [days]  \\\n",
              "count  19922.000000  19918.000000  19920.000000     17240.000000   \n",
              "mean     459.261821     15.207149     41.203313        64.563225   \n",
              "std      364.265693     11.504116     38.756126         6.659307   \n",
              "min        1.000000      1.000000      1.000000        42.000000   \n",
              "25%      187.000000      7.000000     15.000000        60.000000   \n",
              "50%      370.000000     12.000000     27.000000        64.000000   \n",
              "75%      636.000000     20.000000     56.000000        69.000000   \n",
              "max     1600.000000     55.000000    207.000000        88.000000   \n",
              "\n",
              "       Silking [days]  Plant Height [cm]  Ear Height [cm]  \\\n",
              "count    16597.000000       19897.000000     19896.000000   \n",
              "mean        65.322227         224.376560       107.854135   \n",
              "std          6.382004          30.086444        24.323485   \n",
              "min         46.000000          93.000000        30.000000   \n",
              "25%         61.000000         202.000000        92.000000   \n",
              "50%         65.000000         228.000000       110.000000   \n",
              "75%         70.000000         247.000000       125.000000   \n",
              "max         90.000000         307.000000       190.000000   \n",
              "\n",
              "       Stand Count [# of plants]  Root Lodging [# of plants]  \\\n",
              "count               19192.000000                16866.000000   \n",
              "mean                   63.132086                    1.557008   \n",
              "std                    12.361911                    5.662320   \n",
              "min                     2.000000                    0.000000   \n",
              "25%                    55.000000                    0.000000   \n",
              "50%                    64.000000                    0.000000   \n",
              "75%                    71.000000                    0.000000   \n",
              "max                    98.000000                   80.000000   \n",
              "\n",
              "       Stalk Lodging [# of plants]  Grain Moisture [%]  Test Weight [lbs]  \\\n",
              "count                 18148.000000        19922.000000       18039.000000   \n",
              "mean                      2.488318           22.369735          55.908627   \n",
              "std                       6.576376            7.111288           4.776756   \n",
              "min                       0.000000            6.890000          26.800000   \n",
              "25%                       0.000000           17.900000          52.500000   \n",
              "50%                       0.000000           22.300000          55.200000   \n",
              "75%                       2.000000           26.400000          58.500000   \n",
              "max                      74.000000           44.800000          85.000000   \n",
              "\n",
              "       Plot Weight [lbs]  Grain Yield (bu/A)  Single Plant Biomass in July(g)  \\\n",
              "count       19922.000000        19922.000000                              0.0   \n",
              "mean           20.375359          175.255058                              NaN   \n",
              "std             5.788555           47.874940                              NaN   \n",
              "min             1.320000           12.418756                              NaN   \n",
              "25%            16.930000          143.463323                              NaN   \n",
              "50%            20.503800          176.718695                              NaN   \n",
              "75%            23.940000          209.802404                              NaN   \n",
              "max            42.070000          299.710887                              NaN   \n",
              "\n",
              "       Single Plant Biomass in August(g)  RootPullingForce(kgf)_July  \\\n",
              "count                                0.0                         0.0   \n",
              "mean                                 NaN                         NaN   \n",
              "std                                  NaN                         NaN   \n",
              "min                                  NaN                         NaN   \n",
              "25%                                  NaN                         NaN   \n",
              "50%                                  NaN                         NaN   \n",
              "75%                                  NaN                         NaN   \n",
              "max                                  NaN                         NaN   \n",
              "\n",
              "       RootPullingForce(kgf)_August  \n",
              "count                           0.0  \n",
              "mean                            NaN  \n",
              "std                             NaN  \n",
              "min                             NaN  \n",
              "25%                             NaN  \n",
              "50%                             NaN  \n",
              "75%                             NaN  \n",
              "max                             NaN  "
            ],
            "text/html": [
              "\n",
              "  <div id=\"df-d7ec29c2-60b9-435d-b3e6-46c7132ae68c\">\n",
              "    <div class=\"colab-df-container\">\n",
              "      <div>\n",
              "<style scoped>\n",
              "    .dataframe tbody tr th:only-of-type {\n",
              "        vertical-align: middle;\n",
              "    }\n",
              "\n",
              "    .dataframe tbody tr th {\n",
              "        vertical-align: top;\n",
              "    }\n",
              "\n",
              "    .dataframe thead th {\n",
              "        text-align: right;\n",
              "    }\n",
              "</style>\n",
              "<table border=\"1\" class=\"dataframe\">\n",
              "  <thead>\n",
              "    <tr style=\"text-align: right;\">\n",
              "      <th></th>\n",
              "      <th>Year</th>\n",
              "      <th>Plot length (center-center in feet)</th>\n",
              "      <th>Plot area (ft2)</th>\n",
              "      <th>Alley length (in inches)</th>\n",
              "      <th>Row spacing (in inches)</th>\n",
              "      <th>Rows per plot</th>\n",
              "      <th>Kernels/Packet</th>\n",
              "      <th># Seed per plot</th>\n",
              "      <th>Replicate</th>\n",
              "      <th>Block</th>\n",
              "      <th>Plot</th>\n",
              "      <th>Range</th>\n",
              "      <th>Pass</th>\n",
              "      <th>Anthesis [days]</th>\n",
              "      <th>Silking [days]</th>\n",
              "      <th>Plant Height [cm]</th>\n",
              "      <th>Ear Height [cm]</th>\n",
              "      <th>Stand Count [# of plants]</th>\n",
              "      <th>Root Lodging [# of plants]</th>\n",
              "      <th>Stalk Lodging [# of plants]</th>\n",
              "      <th>Grain Moisture [%]</th>\n",
              "      <th>Test Weight [lbs]</th>\n",
              "      <th>Plot Weight [lbs]</th>\n",
              "      <th>Grain Yield (bu/A)</th>\n",
              "      <th>Single Plant Biomass in July(g)</th>\n",
              "      <th>Single Plant Biomass in August(g)</th>\n",
              "      <th>RootPullingForce(kgf)_July</th>\n",
              "      <th>RootPullingForce(kgf)_August</th>\n",
              "    </tr>\n",
              "  </thead>\n",
              "  <tbody>\n",
              "    <tr>\n",
              "      <th>count</th>\n",
              "      <td>19922.0</td>\n",
              "      <td>19922.000000</td>\n",
              "      <td>19922.000000</td>\n",
              "      <td>19922.000000</td>\n",
              "      <td>19922.000000</td>\n",
              "      <td>19922.0</td>\n",
              "      <td>19435.000000</td>\n",
              "      <td>19922.000000</td>\n",
              "      <td>19922.000000</td>\n",
              "      <td>19922.000000</td>\n",
              "      <td>19922.000000</td>\n",
              "      <td>19918.000000</td>\n",
              "      <td>19920.000000</td>\n",
              "      <td>17240.000000</td>\n",
              "      <td>16597.000000</td>\n",
              "      <td>19897.000000</td>\n",
              "      <td>19896.000000</td>\n",
              "      <td>19192.000000</td>\n",
              "      <td>16866.000000</td>\n",
              "      <td>18148.000000</td>\n",
              "      <td>19922.000000</td>\n",
              "      <td>18039.000000</td>\n",
              "      <td>19922.000000</td>\n",
              "      <td>19922.000000</td>\n",
              "      <td>0.0</td>\n",
              "      <td>0.0</td>\n",
              "      <td>0.0</td>\n",
              "      <td>0.0</td>\n",
              "    </tr>\n",
              "    <tr>\n",
              "      <th>mean</th>\n",
              "      <td>2019.0</td>\n",
              "      <td>19.311213</td>\n",
              "      <td>83.073785</td>\n",
              "      <td>36.592310</td>\n",
              "      <td>30.737577</td>\n",
              "      <td>2.0</td>\n",
              "      <td>69.612092</td>\n",
              "      <td>82.440618</td>\n",
              "      <td>1.494729</td>\n",
              "      <td>4.293244</td>\n",
              "      <td>459.261821</td>\n",
              "      <td>15.207149</td>\n",
              "      <td>41.203313</td>\n",
              "      <td>64.563225</td>\n",
              "      <td>65.322227</td>\n",
              "      <td>224.376560</td>\n",
              "      <td>107.854135</td>\n",
              "      <td>63.132086</td>\n",
              "      <td>1.557008</td>\n",
              "      <td>2.488318</td>\n",
              "      <td>22.369735</td>\n",
              "      <td>55.908627</td>\n",
              "      <td>20.375359</td>\n",
              "      <td>175.255058</td>\n",
              "      <td>NaN</td>\n",
              "      <td>NaN</td>\n",
              "      <td>NaN</td>\n",
              "      <td>NaN</td>\n",
              "    </tr>\n",
              "    <tr>\n",
              "      <th>std</th>\n",
              "      <td>0.0</td>\n",
              "      <td>2.299331</td>\n",
              "      <td>12.221595</td>\n",
              "      <td>11.434061</td>\n",
              "      <td>2.401057</td>\n",
              "      <td>0.0</td>\n",
              "      <td>20.857641</td>\n",
              "      <td>9.474232</td>\n",
              "      <td>0.499985</td>\n",
              "      <td>2.836038</td>\n",
              "      <td>364.265693</td>\n",
              "      <td>11.504116</td>\n",
              "      <td>38.756126</td>\n",
              "      <td>6.659307</td>\n",
              "      <td>6.382004</td>\n",
              "      <td>30.086444</td>\n",
              "      <td>24.323485</td>\n",
              "      <td>12.361911</td>\n",
              "      <td>5.662320</td>\n",
              "      <td>6.576376</td>\n",
              "      <td>7.111288</td>\n",
              "      <td>4.776756</td>\n",
              "      <td>5.788555</td>\n",
              "      <td>47.874940</td>\n",
              "      <td>NaN</td>\n",
              "      <td>NaN</td>\n",
              "      <td>NaN</td>\n",
              "      <td>NaN</td>\n",
              "    </tr>\n",
              "    <tr>\n",
              "      <th>min</th>\n",
              "      <td>2019.0</td>\n",
              "      <td>15.000000</td>\n",
              "      <td>62.500000</td>\n",
              "      <td>24.000000</td>\n",
              "      <td>30.000000</td>\n",
              "      <td>2.0</td>\n",
              "      <td>35.000000</td>\n",
              "      <td>50.000000</td>\n",
              "      <td>1.000000</td>\n",
              "      <td>1.000000</td>\n",
              "      <td>1.000000</td>\n",
              "      <td>1.000000</td>\n",
              "      <td>1.000000</td>\n",
              "      <td>42.000000</td>\n",
              "      <td>46.000000</td>\n",
              "      <td>93.000000</td>\n",
              "      <td>30.000000</td>\n",
              "      <td>2.000000</td>\n",
              "      <td>0.000000</td>\n",
              "      <td>0.000000</td>\n",
              "      <td>6.890000</td>\n",
              "      <td>26.800000</td>\n",
              "      <td>1.320000</td>\n",
              "      <td>12.418756</td>\n",
              "      <td>NaN</td>\n",
              "      <td>NaN</td>\n",
              "      <td>NaN</td>\n",
              "      <td>NaN</td>\n",
              "    </tr>\n",
              "    <tr>\n",
              "      <th>25%</th>\n",
              "      <td>2019.0</td>\n",
              "      <td>17.250000</td>\n",
              "      <td>72.500000</td>\n",
              "      <td>30.000000</td>\n",
              "      <td>30.000000</td>\n",
              "      <td>2.0</td>\n",
              "      <td>47.000000</td>\n",
              "      <td>80.000000</td>\n",
              "      <td>1.000000</td>\n",
              "      <td>2.000000</td>\n",
              "      <td>187.000000</td>\n",
              "      <td>7.000000</td>\n",
              "      <td>15.000000</td>\n",
              "      <td>60.000000</td>\n",
              "      <td>61.000000</td>\n",
              "      <td>202.000000</td>\n",
              "      <td>92.000000</td>\n",
              "      <td>55.000000</td>\n",
              "      <td>0.000000</td>\n",
              "      <td>0.000000</td>\n",
              "      <td>17.900000</td>\n",
              "      <td>52.500000</td>\n",
              "      <td>16.930000</td>\n",
              "      <td>143.463323</td>\n",
              "      <td>NaN</td>\n",
              "      <td>NaN</td>\n",
              "      <td>NaN</td>\n",
              "      <td>NaN</td>\n",
              "    </tr>\n",
              "    <tr>\n",
              "      <th>50%</th>\n",
              "      <td>2019.0</td>\n",
              "      <td>18.500000</td>\n",
              "      <td>84.000000</td>\n",
              "      <td>33.000000</td>\n",
              "      <td>30.000000</td>\n",
              "      <td>2.0</td>\n",
              "      <td>80.000000</td>\n",
              "      <td>80.000000</td>\n",
              "      <td>1.000000</td>\n",
              "      <td>4.000000</td>\n",
              "      <td>370.000000</td>\n",
              "      <td>12.000000</td>\n",
              "      <td>27.000000</td>\n",
              "      <td>64.000000</td>\n",
              "      <td>65.000000</td>\n",
              "      <td>228.000000</td>\n",
              "      <td>110.000000</td>\n",
              "      <td>64.000000</td>\n",
              "      <td>0.000000</td>\n",
              "      <td>0.000000</td>\n",
              "      <td>22.300000</td>\n",
              "      <td>55.200000</td>\n",
              "      <td>20.503800</td>\n",
              "      <td>176.718695</td>\n",
              "      <td>NaN</td>\n",
              "      <td>NaN</td>\n",
              "      <td>NaN</td>\n",
              "      <td>NaN</td>\n",
              "    </tr>\n",
              "    <tr>\n",
              "      <th>75%</th>\n",
              "      <td>2019.0</td>\n",
              "      <td>22.000000</td>\n",
              "      <td>95.000000</td>\n",
              "      <td>42.000000</td>\n",
              "      <td>30.000000</td>\n",
              "      <td>2.0</td>\n",
              "      <td>90.000000</td>\n",
              "      <td>90.000000</td>\n",
              "      <td>2.000000</td>\n",
              "      <td>6.000000</td>\n",
              "      <td>636.000000</td>\n",
              "      <td>20.000000</td>\n",
              "      <td>56.000000</td>\n",
              "      <td>69.000000</td>\n",
              "      <td>70.000000</td>\n",
              "      <td>247.000000</td>\n",
              "      <td>125.000000</td>\n",
              "      <td>71.000000</td>\n",
              "      <td>0.000000</td>\n",
              "      <td>2.000000</td>\n",
              "      <td>26.400000</td>\n",
              "      <td>58.500000</td>\n",
              "      <td>23.940000</td>\n",
              "      <td>209.802404</td>\n",
              "      <td>NaN</td>\n",
              "      <td>NaN</td>\n",
              "      <td>NaN</td>\n",
              "      <td>NaN</td>\n",
              "    </tr>\n",
              "    <tr>\n",
              "      <th>max</th>\n",
              "      <td>2019.0</td>\n",
              "      <td>25.000000</td>\n",
              "      <td>106.666667</td>\n",
              "      <td>72.000000</td>\n",
              "      <td>40.000000</td>\n",
              "      <td>2.0</td>\n",
              "      <td>90.000000</td>\n",
              "      <td>100.000000</td>\n",
              "      <td>2.000000</td>\n",
              "      <td>12.000000</td>\n",
              "      <td>1600.000000</td>\n",
              "      <td>55.000000</td>\n",
              "      <td>207.000000</td>\n",
              "      <td>88.000000</td>\n",
              "      <td>90.000000</td>\n",
              "      <td>307.000000</td>\n",
              "      <td>190.000000</td>\n",
              "      <td>98.000000</td>\n",
              "      <td>80.000000</td>\n",
              "      <td>74.000000</td>\n",
              "      <td>44.800000</td>\n",
              "      <td>85.000000</td>\n",
              "      <td>42.070000</td>\n",
              "      <td>299.710887</td>\n",
              "      <td>NaN</td>\n",
              "      <td>NaN</td>\n",
              "      <td>NaN</td>\n",
              "      <td>NaN</td>\n",
              "    </tr>\n",
              "  </tbody>\n",
              "</table>\n",
              "</div>\n",
              "      <button class=\"colab-df-convert\" onclick=\"convertToInteractive('df-d7ec29c2-60b9-435d-b3e6-46c7132ae68c')\"\n",
              "              title=\"Convert this dataframe to an interactive table.\"\n",
              "              style=\"display:none;\">\n",
              "        \n",
              "  <svg xmlns=\"http://www.w3.org/2000/svg\" height=\"24px\"viewBox=\"0 0 24 24\"\n",
              "       width=\"24px\">\n",
              "    <path d=\"M0 0h24v24H0V0z\" fill=\"none\"/>\n",
              "    <path d=\"M18.56 5.44l.94 2.06.94-2.06 2.06-.94-2.06-.94-.94-2.06-.94 2.06-2.06.94zm-11 1L8.5 8.5l.94-2.06 2.06-.94-2.06-.94L8.5 2.5l-.94 2.06-2.06.94zm10 10l.94 2.06.94-2.06 2.06-.94-2.06-.94-.94-2.06-.94 2.06-2.06.94z\"/><path d=\"M17.41 7.96l-1.37-1.37c-.4-.4-.92-.59-1.43-.59-.52 0-1.04.2-1.43.59L10.3 9.45l-7.72 7.72c-.78.78-.78 2.05 0 2.83L4 21.41c.39.39.9.59 1.41.59.51 0 1.02-.2 1.41-.59l7.78-7.78 2.81-2.81c.8-.78.8-2.07 0-2.86zM5.41 20L4 18.59l7.72-7.72 1.47 1.35L5.41 20z\"/>\n",
              "  </svg>\n",
              "      </button>\n",
              "      \n",
              "  <style>\n",
              "    .colab-df-container {\n",
              "      display:flex;\n",
              "      flex-wrap:wrap;\n",
              "      gap: 12px;\n",
              "    }\n",
              "\n",
              "    .colab-df-convert {\n",
              "      background-color: #E8F0FE;\n",
              "      border: none;\n",
              "      border-radius: 50%;\n",
              "      cursor: pointer;\n",
              "      display: none;\n",
              "      fill: #1967D2;\n",
              "      height: 32px;\n",
              "      padding: 0 0 0 0;\n",
              "      width: 32px;\n",
              "    }\n",
              "\n",
              "    .colab-df-convert:hover {\n",
              "      background-color: #E2EBFA;\n",
              "      box-shadow: 0px 1px 2px rgba(60, 64, 67, 0.3), 0px 1px 3px 1px rgba(60, 64, 67, 0.15);\n",
              "      fill: #174EA6;\n",
              "    }\n",
              "\n",
              "    [theme=dark] .colab-df-convert {\n",
              "      background-color: #3B4455;\n",
              "      fill: #D2E3FC;\n",
              "    }\n",
              "\n",
              "    [theme=dark] .colab-df-convert:hover {\n",
              "      background-color: #434B5C;\n",
              "      box-shadow: 0px 1px 3px 1px rgba(0, 0, 0, 0.15);\n",
              "      filter: drop-shadow(0px 1px 2px rgba(0, 0, 0, 0.3));\n",
              "      fill: #FFFFFF;\n",
              "    }\n",
              "  </style>\n",
              "\n",
              "      <script>\n",
              "        const buttonEl =\n",
              "          document.querySelector('#df-d7ec29c2-60b9-435d-b3e6-46c7132ae68c button.colab-df-convert');\n",
              "        buttonEl.style.display =\n",
              "          google.colab.kernel.accessAllowed ? 'block' : 'none';\n",
              "\n",
              "        async function convertToInteractive(key) {\n",
              "          const element = document.querySelector('#df-d7ec29c2-60b9-435d-b3e6-46c7132ae68c');\n",
              "          const dataTable =\n",
              "            await google.colab.kernel.invokeFunction('convertToInteractive',\n",
              "                                                     [key], {});\n",
              "          if (!dataTable) return;\n",
              "\n",
              "          const docLinkHtml = 'Like what you see? Visit the ' +\n",
              "            '<a target=\"_blank\" href=https://colab.research.google.com/notebooks/data_table.ipynb>data table notebook</a>'\n",
              "            + ' to learn more about interactive tables.';\n",
              "          element.innerHTML = '';\n",
              "          dataTable['output_type'] = 'display_data';\n",
              "          await google.colab.output.renderOutput(dataTable, element);\n",
              "          const docLink = document.createElement('div');\n",
              "          docLink.innerHTML = docLinkHtml;\n",
              "          element.appendChild(docLink);\n",
              "        }\n",
              "      </script>\n",
              "    </div>\n",
              "  </div>\n",
              "  "
            ]
          },
          "metadata": {},
          "execution_count": 17
        }
      ]
    },
    {
      "cell_type": "code",
      "source": [
        "Phenotype_data['Field-Location'].value_counts()"
      ],
      "metadata": {
        "colab": {
          "base_uri": "https://localhost:8080/"
        },
        "id": "tjaItBuCnFWv",
        "outputId": "6116e472-c327-4ec0-f404-fff4d21505d6"
      },
      "execution_count": null,
      "outputs": [
        {
          "output_type": "execute_result",
          "data": {
            "text/plain": [
              "WIH2    1600\n",
              "IAH4    1600\n",
              "MNH1    1600\n",
              "DEH1    1000\n",
              "NCH1    1000\n",
              "IAH3     960\n",
              "IAH2     960\n",
              "WIH1     800\n",
              "MOH1     800\n",
              "NYH2     800\n",
              "NYH3     800\n",
              "TXH4     712\n",
              "TXH1     712\n",
              "IAH1     696\n",
              "TXH3     512\n",
              "TXH2     512\n",
              "GAH2     512\n",
              "GAH1     512\n",
              "ONH2     500\n",
              "SCH1     500\n",
              "NYH1     500\n",
              "OHH1     500\n",
              "MIH1     500\n",
              "INH1     500\n",
              "ILH1     500\n",
              "GEH1     500\n",
              "NEH2     400\n",
              "NEH1     400\n",
              "COH1      64\n",
              "Name: Field-Location, dtype: int64"
            ]
          },
          "metadata": {},
          "execution_count": 18
        }
      ]
    },
    {
      "cell_type": "code",
      "source": [
        "Phenotype_data['Grain Yield (bu/A)'].isna()"
      ],
      "metadata": {
        "colab": {
          "base_uri": "https://localhost:8080/"
        },
        "id": "X1VZYSvpsQ_F",
        "outputId": "eacd781e-5236-4a10-cc64-212cdfba2fcc"
      },
      "execution_count": null,
      "outputs": [
        {
          "output_type": "execute_result",
          "data": {
            "text/plain": [
              "0         True\n",
              "1         True\n",
              "2         True\n",
              "3         True\n",
              "4         True\n",
              "         ...  \n",
              "20947    False\n",
              "20948    False\n",
              "20949    False\n",
              "20950    False\n",
              "20951    False\n",
              "Name: Grain Yield (bu/A), Length: 20952, dtype: bool"
            ]
          },
          "metadata": {},
          "execution_count": 19
        }
      ]
    }
  ]
}